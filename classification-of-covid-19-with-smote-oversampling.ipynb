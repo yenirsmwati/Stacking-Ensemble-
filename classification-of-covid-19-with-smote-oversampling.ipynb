{
 "cells": [
  {
   "cell_type": "code",
   "execution_count": 1,
   "id": "cccdc44e",
   "metadata": {
    "execution": {
     "iopub.execute_input": "2024-07-28T01:59:23.920284Z",
     "iopub.status.busy": "2024-07-28T01:59:23.919703Z",
     "iopub.status.idle": "2024-07-28T01:59:23.934276Z",
     "shell.execute_reply": "2024-07-28T01:59:23.933183Z"
    },
    "papermill": {
     "duration": 0.044934,
     "end_time": "2024-07-28T01:59:23.937443",
     "exception": false,
     "start_time": "2024-07-28T01:59:23.892509",
     "status": "completed"
    },
    "tags": []
   },
   "outputs": [],
   "source": [
    "import numpy as np\n",
    "import pandas as pd\n",
    "from matplotlib import pyplot as plt"
   ]
  },
  {
   "cell_type": "markdown",
   "id": "d772eff7",
   "metadata": {
    "papermill": {
     "duration": 0.021104,
     "end_time": "2024-07-28T01:59:23.980394",
     "exception": false,
     "start_time": "2024-07-28T01:59:23.959290",
     "status": "completed"
    },
    "tags": []
   },
   "source": [
    "# Data preparation"
   ]
  },
  {
   "cell_type": "code",
   "execution_count": 2,
   "id": "2a95e23b",
   "metadata": {
    "execution": {
     "iopub.execute_input": "2024-07-28T01:59:24.026839Z",
     "iopub.status.busy": "2024-07-28T01:59:24.025552Z",
     "iopub.status.idle": "2024-07-28T01:59:24.105675Z",
     "shell.execute_reply": "2024-07-28T01:59:24.104373Z"
    },
    "papermill": {
     "duration": 0.106384,
     "end_time": "2024-07-28T01:59:24.108990",
     "exception": false,
     "start_time": "2024-07-28T01:59:24.002606",
     "status": "completed"
    },
    "tags": []
   },
   "outputs": [
    {
     "data": {
      "text/html": [
       "<div>\n",
       "<style scoped>\n",
       "    .dataframe tbody tr th:only-of-type {\n",
       "        vertical-align: middle;\n",
       "    }\n",
       "\n",
       "    .dataframe tbody tr th {\n",
       "        vertical-align: top;\n",
       "    }\n",
       "\n",
       "    .dataframe thead th {\n",
       "        text-align: right;\n",
       "    }\n",
       "</style>\n",
       "<table border=\"1\" class=\"dataframe\">\n",
       "  <thead>\n",
       "    <tr style=\"text-align: right;\">\n",
       "      <th></th>\n",
       "      <th>Breathing Problem</th>\n",
       "      <th>Fever</th>\n",
       "      <th>Dry Cough</th>\n",
       "      <th>Sore throat</th>\n",
       "      <th>Running Nose</th>\n",
       "      <th>Asthma</th>\n",
       "      <th>Chronic Lung Disease</th>\n",
       "      <th>Headache</th>\n",
       "      <th>Heart Disease</th>\n",
       "      <th>Diabetes</th>\n",
       "      <th>...</th>\n",
       "      <th>Fatigue</th>\n",
       "      <th>Gastrointestinal</th>\n",
       "      <th>Abroad travel</th>\n",
       "      <th>Contact with COVID Patient</th>\n",
       "      <th>Attended Large Gathering</th>\n",
       "      <th>Visited Public Exposed Places</th>\n",
       "      <th>Family working in Public Exposed Places</th>\n",
       "      <th>Wearing Masks</th>\n",
       "      <th>Sanitization from Market</th>\n",
       "      <th>COVID-19</th>\n",
       "    </tr>\n",
       "  </thead>\n",
       "  <tbody>\n",
       "    <tr>\n",
       "      <th>0</th>\n",
       "      <td>Yes</td>\n",
       "      <td>Yes</td>\n",
       "      <td>Yes</td>\n",
       "      <td>Yes</td>\n",
       "      <td>Yes</td>\n",
       "      <td>No</td>\n",
       "      <td>No</td>\n",
       "      <td>No</td>\n",
       "      <td>No</td>\n",
       "      <td>Yes</td>\n",
       "      <td>...</td>\n",
       "      <td>Yes</td>\n",
       "      <td>Yes</td>\n",
       "      <td>No</td>\n",
       "      <td>Yes</td>\n",
       "      <td>No</td>\n",
       "      <td>Yes</td>\n",
       "      <td>Yes</td>\n",
       "      <td>No</td>\n",
       "      <td>No</td>\n",
       "      <td>Yes</td>\n",
       "    </tr>\n",
       "    <tr>\n",
       "      <th>1</th>\n",
       "      <td>Yes</td>\n",
       "      <td>Yes</td>\n",
       "      <td>Yes</td>\n",
       "      <td>Yes</td>\n",
       "      <td>No</td>\n",
       "      <td>Yes</td>\n",
       "      <td>Yes</td>\n",
       "      <td>Yes</td>\n",
       "      <td>No</td>\n",
       "      <td>No</td>\n",
       "      <td>...</td>\n",
       "      <td>Yes</td>\n",
       "      <td>No</td>\n",
       "      <td>No</td>\n",
       "      <td>No</td>\n",
       "      <td>Yes</td>\n",
       "      <td>Yes</td>\n",
       "      <td>No</td>\n",
       "      <td>No</td>\n",
       "      <td>No</td>\n",
       "      <td>Yes</td>\n",
       "    </tr>\n",
       "    <tr>\n",
       "      <th>2</th>\n",
       "      <td>Yes</td>\n",
       "      <td>Yes</td>\n",
       "      <td>Yes</td>\n",
       "      <td>Yes</td>\n",
       "      <td>Yes</td>\n",
       "      <td>Yes</td>\n",
       "      <td>Yes</td>\n",
       "      <td>Yes</td>\n",
       "      <td>No</td>\n",
       "      <td>Yes</td>\n",
       "      <td>...</td>\n",
       "      <td>Yes</td>\n",
       "      <td>Yes</td>\n",
       "      <td>Yes</td>\n",
       "      <td>No</td>\n",
       "      <td>No</td>\n",
       "      <td>No</td>\n",
       "      <td>No</td>\n",
       "      <td>No</td>\n",
       "      <td>No</td>\n",
       "      <td>Yes</td>\n",
       "    </tr>\n",
       "    <tr>\n",
       "      <th>3</th>\n",
       "      <td>Yes</td>\n",
       "      <td>Yes</td>\n",
       "      <td>Yes</td>\n",
       "      <td>No</td>\n",
       "      <td>No</td>\n",
       "      <td>Yes</td>\n",
       "      <td>No</td>\n",
       "      <td>No</td>\n",
       "      <td>Yes</td>\n",
       "      <td>Yes</td>\n",
       "      <td>...</td>\n",
       "      <td>No</td>\n",
       "      <td>No</td>\n",
       "      <td>Yes</td>\n",
       "      <td>No</td>\n",
       "      <td>Yes</td>\n",
       "      <td>Yes</td>\n",
       "      <td>No</td>\n",
       "      <td>No</td>\n",
       "      <td>No</td>\n",
       "      <td>Yes</td>\n",
       "    </tr>\n",
       "    <tr>\n",
       "      <th>4</th>\n",
       "      <td>Yes</td>\n",
       "      <td>Yes</td>\n",
       "      <td>Yes</td>\n",
       "      <td>Yes</td>\n",
       "      <td>Yes</td>\n",
       "      <td>No</td>\n",
       "      <td>Yes</td>\n",
       "      <td>Yes</td>\n",
       "      <td>Yes</td>\n",
       "      <td>Yes</td>\n",
       "      <td>...</td>\n",
       "      <td>No</td>\n",
       "      <td>Yes</td>\n",
       "      <td>No</td>\n",
       "      <td>Yes</td>\n",
       "      <td>No</td>\n",
       "      <td>Yes</td>\n",
       "      <td>No</td>\n",
       "      <td>No</td>\n",
       "      <td>No</td>\n",
       "      <td>Yes</td>\n",
       "    </tr>\n",
       "  </tbody>\n",
       "</table>\n",
       "<p>5 rows × 21 columns</p>\n",
       "</div>"
      ],
      "text/plain": [
       "  Breathing Problem Fever Dry Cough Sore throat Running Nose Asthma  \\\n",
       "0               Yes   Yes       Yes         Yes          Yes     No   \n",
       "1               Yes   Yes       Yes         Yes           No    Yes   \n",
       "2               Yes   Yes       Yes         Yes          Yes    Yes   \n",
       "3               Yes   Yes       Yes          No           No    Yes   \n",
       "4               Yes   Yes       Yes         Yes          Yes     No   \n",
       "\n",
       "  Chronic Lung Disease Headache Heart Disease Diabetes  ... Fatigue   \\\n",
       "0                   No       No            No      Yes  ...      Yes   \n",
       "1                  Yes      Yes            No       No  ...      Yes   \n",
       "2                  Yes      Yes            No      Yes  ...      Yes   \n",
       "3                   No       No           Yes      Yes  ...       No   \n",
       "4                  Yes      Yes           Yes      Yes  ...       No   \n",
       "\n",
       "  Gastrointestinal  Abroad travel Contact with COVID Patient  \\\n",
       "0               Yes            No                        Yes   \n",
       "1                No            No                         No   \n",
       "2               Yes           Yes                         No   \n",
       "3                No           Yes                         No   \n",
       "4               Yes            No                        Yes   \n",
       "\n",
       "  Attended Large Gathering Visited Public Exposed Places  \\\n",
       "0                       No                           Yes   \n",
       "1                      Yes                           Yes   \n",
       "2                       No                            No   \n",
       "3                      Yes                           Yes   \n",
       "4                       No                           Yes   \n",
       "\n",
       "  Family working in Public Exposed Places Wearing Masks  \\\n",
       "0                                     Yes            No   \n",
       "1                                      No            No   \n",
       "2                                      No            No   \n",
       "3                                      No            No   \n",
       "4                                      No            No   \n",
       "\n",
       "  Sanitization from Market COVID-19  \n",
       "0                       No      Yes  \n",
       "1                       No      Yes  \n",
       "2                       No      Yes  \n",
       "3                       No      Yes  \n",
       "4                       No      Yes  \n",
       "\n",
       "[5 rows x 21 columns]"
      ]
     },
     "execution_count": 2,
     "metadata": {},
     "output_type": "execute_result"
    }
   ],
   "source": [
    "data_covid=pd.read_csv(\"/kaggle/input/symptoms-and-covid-presence/Covid Dataset.csv\")\n",
    "data_covid.head()"
   ]
  },
  {
   "cell_type": "code",
   "execution_count": 3,
   "id": "1e52d627",
   "metadata": {
    "execution": {
     "iopub.execute_input": "2024-07-28T01:59:24.156628Z",
     "iopub.status.busy": "2024-07-28T01:59:24.155723Z",
     "iopub.status.idle": "2024-07-28T01:59:24.196853Z",
     "shell.execute_reply": "2024-07-28T01:59:24.195274Z"
    },
    "papermill": {
     "duration": 0.06811,
     "end_time": "2024-07-28T01:59:24.199930",
     "exception": false,
     "start_time": "2024-07-28T01:59:24.131820",
     "status": "completed"
    },
    "tags": []
   },
   "outputs": [
    {
     "name": "stdout",
     "output_type": "stream",
     "text": [
      "<class 'pandas.core.frame.DataFrame'>\n",
      "RangeIndex: 5434 entries, 0 to 5433\n",
      "Data columns (total 21 columns):\n",
      " #   Column                                   Non-Null Count  Dtype \n",
      "---  ------                                   --------------  ----- \n",
      " 0   Breathing Problem                        5434 non-null   object\n",
      " 1   Fever                                    5434 non-null   object\n",
      " 2   Dry Cough                                5434 non-null   object\n",
      " 3   Sore throat                              5434 non-null   object\n",
      " 4   Running Nose                             5434 non-null   object\n",
      " 5   Asthma                                   5434 non-null   object\n",
      " 6   Chronic Lung Disease                     5434 non-null   object\n",
      " 7   Headache                                 5434 non-null   object\n",
      " 8   Heart Disease                            5434 non-null   object\n",
      " 9   Diabetes                                 5434 non-null   object\n",
      " 10  Hyper Tension                            5434 non-null   object\n",
      " 11  Fatigue                                  5434 non-null   object\n",
      " 12  Gastrointestinal                         5434 non-null   object\n",
      " 13  Abroad travel                            5434 non-null   object\n",
      " 14  Contact with COVID Patient               5434 non-null   object\n",
      " 15  Attended Large Gathering                 5434 non-null   object\n",
      " 16  Visited Public Exposed Places            5434 non-null   object\n",
      " 17  Family working in Public Exposed Places  5434 non-null   object\n",
      " 18  Wearing Masks                            5434 non-null   object\n",
      " 19  Sanitization from Market                 5434 non-null   object\n",
      " 20  COVID-19                                 5434 non-null   object\n",
      "dtypes: object(21)\n",
      "memory usage: 891.6+ KB\n"
     ]
    }
   ],
   "source": [
    "data_covid.info()"
   ]
  },
  {
   "cell_type": "code",
   "execution_count": 4,
   "id": "408cc03d",
   "metadata": {
    "execution": {
     "iopub.execute_input": "2024-07-28T01:59:24.247084Z",
     "iopub.status.busy": "2024-07-28T01:59:24.246615Z",
     "iopub.status.idle": "2024-07-28T01:59:24.257196Z",
     "shell.execute_reply": "2024-07-28T01:59:24.255823Z"
    },
    "papermill": {
     "duration": 0.037419,
     "end_time": "2024-07-28T01:59:24.259949",
     "exception": false,
     "start_time": "2024-07-28T01:59:24.222530",
     "status": "completed"
    },
    "tags": []
   },
   "outputs": [
    {
     "data": {
      "text/plain": [
       "Breathing Problem                          object\n",
       "Fever                                      object\n",
       "Dry Cough                                  object\n",
       "Sore throat                                object\n",
       "Running Nose                               object\n",
       "Asthma                                     object\n",
       "Chronic Lung Disease                       object\n",
       "Headache                                   object\n",
       "Heart Disease                              object\n",
       "Diabetes                                   object\n",
       "Hyper Tension                              object\n",
       "Fatigue                                    object\n",
       "Gastrointestinal                           object\n",
       "Abroad travel                              object\n",
       "Contact with COVID Patient                 object\n",
       "Attended Large Gathering                   object\n",
       "Visited Public Exposed Places              object\n",
       "Family working in Public Exposed Places    object\n",
       "Wearing Masks                              object\n",
       "Sanitization from Market                   object\n",
       "COVID-19                                   object\n",
       "dtype: object"
      ]
     },
     "execution_count": 4,
     "metadata": {},
     "output_type": "execute_result"
    }
   ],
   "source": [
    "data_covid.dtypes"
   ]
  },
  {
   "cell_type": "code",
   "execution_count": 5,
   "id": "607e203f",
   "metadata": {
    "execution": {
     "iopub.execute_input": "2024-07-28T01:59:24.307338Z",
     "iopub.status.busy": "2024-07-28T01:59:24.306919Z",
     "iopub.status.idle": "2024-07-28T01:59:24.334864Z",
     "shell.execute_reply": "2024-07-28T01:59:24.332982Z"
    },
    "papermill": {
     "duration": 0.055349,
     "end_time": "2024-07-28T01:59:24.338061",
     "exception": false,
     "start_time": "2024-07-28T01:59:24.282712",
     "status": "completed"
    },
    "tags": []
   },
   "outputs": [
    {
     "name": "stdout",
     "output_type": "stream",
     "text": [
      "Breathing Problem                          [Yes, No]\n",
      "Fever                                      [Yes, No]\n",
      "Dry Cough                                  [Yes, No]\n",
      "Sore throat                                [Yes, No]\n",
      "Running Nose                               [Yes, No]\n",
      "Asthma                                     [No, Yes]\n",
      "Chronic Lung Disease                       [No, Yes]\n",
      "Headache                                   [No, Yes]\n",
      "Heart Disease                              [No, Yes]\n",
      "Diabetes                                   [Yes, No]\n",
      "Hyper Tension                              [Yes, No]\n",
      "Fatigue                                    [Yes, No]\n",
      "Gastrointestinal                           [Yes, No]\n",
      "Abroad travel                              [No, Yes]\n",
      "Contact with COVID Patient                 [Yes, No]\n",
      "Attended Large Gathering                   [No, Yes]\n",
      "Visited Public Exposed Places              [Yes, No]\n",
      "Family working in Public Exposed Places    [Yes, No]\n",
      "Wearing Masks                                   [No]\n",
      "Sanitization from Market                        [No]\n",
      "COVID-19                                   [Yes, No]\n",
      "dtype: object\n"
     ]
    }
   ],
   "source": [
    "unique_values = data_covid.apply(lambda col: col.unique())\n",
    "print(unique_values)"
   ]
  },
  {
   "cell_type": "markdown",
   "id": "b03bcced",
   "metadata": {
    "papermill": {
     "duration": 0.021859,
     "end_time": "2024-07-28T01:59:24.384257",
     "exception": false,
     "start_time": "2024-07-28T01:59:24.362398",
     "status": "completed"
    },
    "tags": []
   },
   "source": [
    "Because columns **Wearing Masks** and **Sanitization from Market** only have one value, the two columns will be dropped."
   ]
  },
  {
   "cell_type": "code",
   "execution_count": 6,
   "id": "470e781a",
   "metadata": {
    "execution": {
     "iopub.execute_input": "2024-07-28T01:59:24.430844Z",
     "iopub.status.busy": "2024-07-28T01:59:24.430384Z",
     "iopub.status.idle": "2024-07-28T01:59:24.462483Z",
     "shell.execute_reply": "2024-07-28T01:59:24.460632Z"
    },
    "papermill": {
     "duration": 0.05869,
     "end_time": "2024-07-28T01:59:24.465378",
     "exception": false,
     "start_time": "2024-07-28T01:59:24.406688",
     "status": "completed"
    },
    "tags": []
   },
   "outputs": [
    {
     "name": "stdout",
     "output_type": "stream",
     "text": [
      "<class 'pandas.core.frame.DataFrame'>\n",
      "RangeIndex: 5434 entries, 0 to 5433\n",
      "Data columns (total 19 columns):\n",
      " #   Column                                   Non-Null Count  Dtype \n",
      "---  ------                                   --------------  ----- \n",
      " 0   Breathing Problem                        5434 non-null   object\n",
      " 1   Fever                                    5434 non-null   object\n",
      " 2   Dry Cough                                5434 non-null   object\n",
      " 3   Sore throat                              5434 non-null   object\n",
      " 4   Running Nose                             5434 non-null   object\n",
      " 5   Asthma                                   5434 non-null   object\n",
      " 6   Chronic Lung Disease                     5434 non-null   object\n",
      " 7   Headache                                 5434 non-null   object\n",
      " 8   Heart Disease                            5434 non-null   object\n",
      " 9   Diabetes                                 5434 non-null   object\n",
      " 10  Hyper Tension                            5434 non-null   object\n",
      " 11  Fatigue                                  5434 non-null   object\n",
      " 12  Gastrointestinal                         5434 non-null   object\n",
      " 13  Abroad travel                            5434 non-null   object\n",
      " 14  Contact with COVID Patient               5434 non-null   object\n",
      " 15  Attended Large Gathering                 5434 non-null   object\n",
      " 16  Visited Public Exposed Places            5434 non-null   object\n",
      " 17  Family working in Public Exposed Places  5434 non-null   object\n",
      " 18  COVID-19                                 5434 non-null   object\n",
      "dtypes: object(19)\n",
      "memory usage: 806.7+ KB\n"
     ]
    }
   ],
   "source": [
    "new_df = data_covid.drop(['Wearing Masks','Sanitization from Market'], axis = 1)\n",
    "new_df.info()"
   ]
  },
  {
   "cell_type": "code",
   "execution_count": 7,
   "id": "6eae8612",
   "metadata": {
    "execution": {
     "iopub.execute_input": "2024-07-28T01:59:24.512364Z",
     "iopub.status.busy": "2024-07-28T01:59:24.511820Z",
     "iopub.status.idle": "2024-07-28T01:59:27.062315Z",
     "shell.execute_reply": "2024-07-28T01:59:27.060830Z"
    },
    "papermill": {
     "duration": 2.577411,
     "end_time": "2024-07-28T01:59:27.065314",
     "exception": false,
     "start_time": "2024-07-28T01:59:24.487903",
     "status": "completed"
    },
    "tags": []
   },
   "outputs": [
    {
     "data": {
      "image/png": "[encoded data removed]",
      "text/plain": [
       "<Figure size 1080x1368 with 21 Axes>"
      ]
     },
     "metadata": {
      "needs_background": "light"
     },
     "output_type": "display_data"
    }
   ],
   "source": [
    "import matplotlib.pyplot as plt\n",
    "new_df.apply(pd.Series.value_counts).plot(kind='bar', subplots=True, layout=(7, 3), figsize=(15, 19), legend=False, sharex=False, sharey=False)\n",
    "\n",
    "plt.tight_layout()  #for the layout doesn't overlap\n",
    "plt.show()"
   ]
  },
  {
   "cell_type": "code",
   "execution_count": 8,
   "id": "889086e7",
   "metadata": {
    "execution": {
     "iopub.execute_input": "2024-07-28T01:59:27.115473Z",
     "iopub.status.busy": "2024-07-28T01:59:27.115005Z",
     "iopub.status.idle": "2024-07-28T01:59:27.124477Z",
     "shell.execute_reply": "2024-07-28T01:59:27.123118Z"
    },
    "papermill": {
     "duration": 0.037625,
     "end_time": "2024-07-28T01:59:27.127337",
     "exception": false,
     "start_time": "2024-07-28T01:59:27.089712",
     "status": "completed"
    },
    "tags": []
   },
   "outputs": [
    {
     "data": {
      "text/plain": [
       "Index(['Breathing Problem', 'Fever', 'Dry Cough', 'Sore throat',\n",
       "       'Running Nose', 'Asthma', 'Chronic Lung Disease', 'Headache',\n",
       "       'Heart Disease', 'Diabetes', 'Hyper Tension', 'Fatigue ',\n",
       "       'Gastrointestinal ', 'Abroad travel', 'Contact with COVID Patient',\n",
       "       'Attended Large Gathering', 'Visited Public Exposed Places',\n",
       "       'Family working in Public Exposed Places'],\n",
       "      dtype='object')"
      ]
     },
     "execution_count": 8,
     "metadata": {},
     "output_type": "execute_result"
    }
   ],
   "source": [
    "variables = new_df.columns[new_df.columns != 'COVID-19']\n",
    "variables"
   ]
  },
  {
   "cell_type": "code",
   "execution_count": 9,
   "id": "84b9658c",
   "metadata": {
    "execution": {
     "iopub.execute_input": "2024-07-28T01:59:27.177627Z",
     "iopub.status.busy": "2024-07-28T01:59:27.177168Z",
     "iopub.status.idle": "2024-07-28T01:59:32.808435Z",
     "shell.execute_reply": "2024-07-28T01:59:32.807182Z"
    },
    "papermill": {
     "duration": 5.659716,
     "end_time": "2024-07-28T01:59:32.811093",
     "exception": false,
     "start_time": "2024-07-28T01:59:27.151377",
     "status": "completed"
    },
    "tags": []
   },
   "outputs": [
    {
     "data": {
      "image/png": "[encoded data removed]",
      "text/plain": [
       "<Figure size 576x432 with 2 Axes>"
      ]
     },
     "metadata": {
      "needs_background": "light"
     },
     "output_type": "display_data"
    },
    {
     "data": {
      "image/png": "[encoded data removed]",
      "text/plain": [
       "<Figure size 576x432 with 2 Axes>"
      ]
     },
     "metadata": {
      "needs_background": "light"
     },
     "output_type": "display_data"
    },
    {
     "data": {
      "image/png": "[encoded data removed]",
      "text/plain": [
       "<Figure size 576x432 with 2 Axes>"
      ]
     },
     "metadata": {
      "needs_background": "light"
     },
     "output_type": "display_data"
    },
    {
     "data": {
      "image/png": "[encoded data removed]",
      "text/plain": [
       "<Figure size 576x432 with 2 Axes>"
      ]
     },
     "metadata": {
      "needs_background": "light"
     },
     "output_type": "display_data"
    },
    {
     "data": {
      "image/png": "[encoded data removed]",
      "text/plain": [
       "<Figure size 576x432 with 2 Axes>"
      ]
     },
     "metadata": {
      "needs_background": "light"
     },
     "output_type": "display_data"
    },
    {
     "data": {
      "image/png": "[encoded data removed]",
      "text/plain": [
       "<Figure size 576x432 with 2 Axes>"
      ]
     },
     "metadata": {
      "needs_background": "light"
     },
     "output_type": "display_data"
    },
    {
     "data": {
      "image/png": "[encoded data removed]",
      "text/plain": [
       "<Figure size 576x432 with 2 Axes>"
      ]
     },
     "metadata": {
      "needs_background": "light"
     },
     "output_type": "display_data"
    },
    {
     "data": {
      "image/png": "[encoded data removed]",
      "text/plain": [
       "<Figure size 576x432 with 2 Axes>"
      ]
     },
     "metadata": {
      "needs_background": "light"
     },
     "output_type": "display_data"
    },
    {
     "data": {
      "image/png": "[encoded data removed]",
      "text/plain": [
       "<Figure size 576x432 with 2 Axes>"
      ]
     },
     "metadata": {
      "needs_background": "light"
     },
     "output_type": "display_data"
    },
    {
     "data": {
      "image/png": "[encoded data removed]",
      "text/plain": [
       "<Figure size 576x432 with 2 Axes>"
      ]
     },
     "metadata": {
      "needs_background": "light"
     },
     "output_type": "display_data"
    },
    {
     "data": {
      "image/png": "[encoded data removed]",
      "text/plain": [
       "<Figure size 576x432 with 2 Axes>"
      ]
     },
     "metadata": {
      "needs_background": "light"
     },
     "output_type": "display_data"
    },
    {
     "data": {
      "image/png": "[encoded data removed]",
      "text/plain": [
       "<Figure size 576x432 with 2 Axes>"
      ]
     },
     "metadata": {
      "needs_background": "light"
     },
     "output_type": "display_data"
    },
    {
     "data": {
      "image/png": "[encoded data removed]",
      "text/plain": [
       "<Figure size 576x432 with 2 Axes>"
      ]
     },
     "metadata": {
      "needs_background": "light"
     },
     "output_type": "display_data"
    },
    {
     "data": {
      "image/png": "[encoded data removed]",
      "text/plain": [
       "<Figure size 576x432 with 2 Axes>"
      ]
     },
     "metadata": {
      "needs_background": "light"
     },
     "output_type": "display_data"
    },
    {
     "data": {
      "image/png": "[encoded data removed]",
      "text/plain": [
       "<Figure size 576x432 with 2 Axes>"
      ]
     },
     "metadata": {
      "needs_background": "light"
     },
     "output_type": "display_data"
    },
    {
     "data": {
      "image/png": "[encoded data removed]",
      "text/plain": [
       "<Figure size 576x432 with 2 Axes>"
      ]
     },
     "metadata": {
      "needs_background": "light"
     },
     "output_type": "display_data"
    },
    {
     "data": {
      "image/png": "[encoded data removed]",
      "text/plain": [
       "<Figure size 576x432 with 2 Axes>"
      ]
     },
     "metadata": {
      "needs_background": "light"
     },
     "output_type": "display_data"
    },
    {
     "data": {
      "image/png": "[encoded data removed]",
      "text/plain": [
       "<Figure size 576x432 with 2 Axes>"
      ]
     },
     "metadata": {
      "needs_background": "light"
     },
     "output_type": "display_data"
    }
   ],
   "source": [
    "import seaborn as sns\n",
    "for var in variables:\n",
    "    table = pd.crosstab(new_df[var], new_df['COVID-19'])\n",
    "    plt.figure(figsize=(8, 6))\n",
    "    sns.heatmap(table, annot=True, cmap='YlGnBu', fmt='d')\n",
    "    plt.title(f'Contingency table between {var} and COVID-19')\n",
    "    plt.show()"
   ]
  },
  {
   "cell_type": "code",
   "execution_count": 10,
   "id": "0fe24cc5",
   "metadata": {
    "execution": {
     "iopub.execute_input": "2024-07-28T01:59:32.877252Z",
     "iopub.status.busy": "2024-07-28T01:59:32.876831Z",
     "iopub.status.idle": "2024-07-28T01:59:32.965500Z",
     "shell.execute_reply": "2024-07-28T01:59:32.963718Z"
    },
    "papermill": {
     "duration": 0.124223,
     "end_time": "2024-07-28T01:59:32.968389",
     "exception": false,
     "start_time": "2024-07-28T01:59:32.844166",
     "status": "completed"
    },
    "tags": []
   },
   "outputs": [
    {
     "name": "stdout",
     "output_type": "stream",
     "text": [
      "<class 'pandas.core.frame.DataFrame'>\n",
      "RangeIndex: 5434 entries, 0 to 5433\n",
      "Data columns (total 19 columns):\n",
      " #   Column                                   Non-Null Count  Dtype\n",
      "---  ------                                   --------------  -----\n",
      " 0   Breathing Problem                        5434 non-null   int64\n",
      " 1   Fever                                    5434 non-null   int64\n",
      " 2   Dry Cough                                5434 non-null   int64\n",
      " 3   Sore throat                              5434 non-null   int64\n",
      " 4   Running Nose                             5434 non-null   int64\n",
      " 5   Asthma                                   5434 non-null   int64\n",
      " 6   Chronic Lung Disease                     5434 non-null   int64\n",
      " 7   Headache                                 5434 non-null   int64\n",
      " 8   Heart Disease                            5434 non-null   int64\n",
      " 9   Diabetes                                 5434 non-null   int64\n",
      " 10  Hyper Tension                            5434 non-null   int64\n",
      " 11  Fatigue                                  5434 non-null   int64\n",
      " 12  Gastrointestinal                         5434 non-null   int64\n",
      " 13  Abroad travel                            5434 non-null   int64\n",
      " 14  Contact with COVID Patient               5434 non-null   int64\n",
      " 15  Attended Large Gathering                 5434 non-null   int64\n",
      " 16  Visited Public Exposed Places            5434 non-null   int64\n",
      " 17  Family working in Public Exposed Places  5434 non-null   int64\n",
      " 18  COVID-19                                 5434 non-null   int64\n",
      "dtypes: int64(19)\n",
      "memory usage: 806.7 KB\n"
     ]
    }
   ],
   "source": [
    "mapping = {'Yes': 1, 'No': 0}\n",
    "df_numeric = new_df.replace(mapping)\n",
    "df_numeric.info()"
   ]
  },
  {
   "cell_type": "code",
   "execution_count": 11,
   "id": "6d9bcb4b",
   "metadata": {
    "execution": {
     "iopub.execute_input": "2024-07-28T01:59:33.035278Z",
     "iopub.status.busy": "2024-07-28T01:59:33.034812Z",
     "iopub.status.idle": "2024-07-28T01:59:33.055644Z",
     "shell.execute_reply": "2024-07-28T01:59:33.054228Z"
    },
    "papermill": {
     "duration": 0.058314,
     "end_time": "2024-07-28T01:59:33.058659",
     "exception": false,
     "start_time": "2024-07-28T01:59:33.000345",
     "status": "completed"
    },
    "tags": []
   },
   "outputs": [
    {
     "data": {
      "text/html": [
       "<div>\n",
       "<style scoped>\n",
       "    .dataframe tbody tr th:only-of-type {\n",
       "        vertical-align: middle;\n",
       "    }\n",
       "\n",
       "    .dataframe tbody tr th {\n",
       "        vertical-align: top;\n",
       "    }\n",
       "\n",
       "    .dataframe thead th {\n",
       "        text-align: right;\n",
       "    }\n",
       "</style>\n",
       "<table border=\"1\" class=\"dataframe\">\n",
       "  <thead>\n",
       "    <tr style=\"text-align: right;\">\n",
       "      <th></th>\n",
       "      <th>Breathing Problem</th>\n",
       "      <th>Fever</th>\n",
       "      <th>Dry Cough</th>\n",
       "      <th>Sore throat</th>\n",
       "      <th>Running Nose</th>\n",
       "      <th>Asthma</th>\n",
       "      <th>Chronic Lung Disease</th>\n",
       "      <th>Headache</th>\n",
       "      <th>Heart Disease</th>\n",
       "      <th>Diabetes</th>\n",
       "      <th>Hyper Tension</th>\n",
       "      <th>Fatigue</th>\n",
       "      <th>Gastrointestinal</th>\n",
       "      <th>Abroad travel</th>\n",
       "      <th>Contact with COVID Patient</th>\n",
       "      <th>Attended Large Gathering</th>\n",
       "      <th>Visited Public Exposed Places</th>\n",
       "      <th>Family working in Public Exposed Places</th>\n",
       "      <th>COVID-19</th>\n",
       "    </tr>\n",
       "  </thead>\n",
       "  <tbody>\n",
       "    <tr>\n",
       "      <th>0</th>\n",
       "      <td>1</td>\n",
       "      <td>1</td>\n",
       "      <td>1</td>\n",
       "      <td>1</td>\n",
       "      <td>1</td>\n",
       "      <td>0</td>\n",
       "      <td>0</td>\n",
       "      <td>0</td>\n",
       "      <td>0</td>\n",
       "      <td>1</td>\n",
       "      <td>1</td>\n",
       "      <td>1</td>\n",
       "      <td>1</td>\n",
       "      <td>0</td>\n",
       "      <td>1</td>\n",
       "      <td>0</td>\n",
       "      <td>1</td>\n",
       "      <td>1</td>\n",
       "      <td>1</td>\n",
       "    </tr>\n",
       "    <tr>\n",
       "      <th>1</th>\n",
       "      <td>1</td>\n",
       "      <td>1</td>\n",
       "      <td>1</td>\n",
       "      <td>1</td>\n",
       "      <td>0</td>\n",
       "      <td>1</td>\n",
       "      <td>1</td>\n",
       "      <td>1</td>\n",
       "      <td>0</td>\n",
       "      <td>0</td>\n",
       "      <td>0</td>\n",
       "      <td>1</td>\n",
       "      <td>0</td>\n",
       "      <td>0</td>\n",
       "      <td>0</td>\n",
       "      <td>1</td>\n",
       "      <td>1</td>\n",
       "      <td>0</td>\n",
       "      <td>1</td>\n",
       "    </tr>\n",
       "    <tr>\n",
       "      <th>2</th>\n",
       "      <td>1</td>\n",
       "      <td>1</td>\n",
       "      <td>1</td>\n",
       "      <td>1</td>\n",
       "      <td>1</td>\n",
       "      <td>1</td>\n",
       "      <td>1</td>\n",
       "      <td>1</td>\n",
       "      <td>0</td>\n",
       "      <td>1</td>\n",
       "      <td>0</td>\n",
       "      <td>1</td>\n",
       "      <td>1</td>\n",
       "      <td>1</td>\n",
       "      <td>0</td>\n",
       "      <td>0</td>\n",
       "      <td>0</td>\n",
       "      <td>0</td>\n",
       "      <td>1</td>\n",
       "    </tr>\n",
       "    <tr>\n",
       "      <th>3</th>\n",
       "      <td>1</td>\n",
       "      <td>1</td>\n",
       "      <td>1</td>\n",
       "      <td>0</td>\n",
       "      <td>0</td>\n",
       "      <td>1</td>\n",
       "      <td>0</td>\n",
       "      <td>0</td>\n",
       "      <td>1</td>\n",
       "      <td>1</td>\n",
       "      <td>0</td>\n",
       "      <td>0</td>\n",
       "      <td>0</td>\n",
       "      <td>1</td>\n",
       "      <td>0</td>\n",
       "      <td>1</td>\n",
       "      <td>1</td>\n",
       "      <td>0</td>\n",
       "      <td>1</td>\n",
       "    </tr>\n",
       "    <tr>\n",
       "      <th>4</th>\n",
       "      <td>1</td>\n",
       "      <td>1</td>\n",
       "      <td>1</td>\n",
       "      <td>1</td>\n",
       "      <td>1</td>\n",
       "      <td>0</td>\n",
       "      <td>1</td>\n",
       "      <td>1</td>\n",
       "      <td>1</td>\n",
       "      <td>1</td>\n",
       "      <td>1</td>\n",
       "      <td>0</td>\n",
       "      <td>1</td>\n",
       "      <td>0</td>\n",
       "      <td>1</td>\n",
       "      <td>0</td>\n",
       "      <td>1</td>\n",
       "      <td>0</td>\n",
       "      <td>1</td>\n",
       "    </tr>\n",
       "  </tbody>\n",
       "</table>\n",
       "</div>"
      ],
      "text/plain": [
       "   Breathing Problem  Fever  Dry Cough  Sore throat  Running Nose  Asthma  \\\n",
       "0                  1      1          1            1             1       0   \n",
       "1                  1      1          1            1             0       1   \n",
       "2                  1      1          1            1             1       1   \n",
       "3                  1      1          1            0             0       1   \n",
       "4                  1      1          1            1             1       0   \n",
       "\n",
       "   Chronic Lung Disease  Headache  Heart Disease  Diabetes  Hyper Tension  \\\n",
       "0                     0         0              0         1              1   \n",
       "1                     1         1              0         0              0   \n",
       "2                     1         1              0         1              0   \n",
       "3                     0         0              1         1              0   \n",
       "4                     1         1              1         1              1   \n",
       "\n",
       "   Fatigue   Gastrointestinal   Abroad travel  Contact with COVID Patient  \\\n",
       "0         1                  1              0                           1   \n",
       "1         1                  0              0                           0   \n",
       "2         1                  1              1                           0   \n",
       "3         0                  0              1                           0   \n",
       "4         0                  1              0                           1   \n",
       "\n",
       "   Attended Large Gathering  Visited Public Exposed Places  \\\n",
       "0                         0                              1   \n",
       "1                         1                              1   \n",
       "2                         0                              0   \n",
       "3                         1                              1   \n",
       "4                         0                              1   \n",
       "\n",
       "   Family working in Public Exposed Places  COVID-19  \n",
       "0                                        1         1  \n",
       "1                                        0         1  \n",
       "2                                        0         1  \n",
       "3                                        0         1  \n",
       "4                                        0         1  "
      ]
     },
     "execution_count": 11,
     "metadata": {},
     "output_type": "execute_result"
    }
   ],
   "source": [
    "df_numeric.head()"
   ]
  },
  {
   "cell_type": "code",
   "execution_count": 12,
   "id": "e683fffa",
   "metadata": {
    "execution": {
     "iopub.execute_input": "2024-07-28T01:59:33.124889Z",
     "iopub.status.busy": "2024-07-28T01:59:33.124369Z",
     "iopub.status.idle": "2024-07-28T01:59:33.132008Z",
     "shell.execute_reply": "2024-07-28T01:59:33.130667Z"
    },
    "papermill": {
     "duration": 0.044286,
     "end_time": "2024-07-28T01:59:33.135000",
     "exception": false,
     "start_time": "2024-07-28T01:59:33.090714",
     "status": "completed"
    },
    "tags": []
   },
   "outputs": [],
   "source": [
    "Y = df_numeric['COVID-19']\n",
    "X = df_numeric.drop(['COVID-19'], axis = 1)"
   ]
  },
  {
   "cell_type": "code",
   "execution_count": 13,
   "id": "0ce305c1",
   "metadata": {
    "execution": {
     "iopub.execute_input": "2024-07-28T01:59:33.202344Z",
     "iopub.status.busy": "2024-07-28T01:59:33.201871Z",
     "iopub.status.idle": "2024-07-28T01:59:33.437505Z",
     "shell.execute_reply": "2024-07-28T01:59:33.436132Z"
    },
    "papermill": {
     "duration": 0.272413,
     "end_time": "2024-07-28T01:59:33.440545",
     "exception": false,
     "start_time": "2024-07-28T01:59:33.168132",
     "status": "completed"
    },
    "tags": []
   },
   "outputs": [],
   "source": [
    "from sklearn.model_selection import train_test_split\n",
    "\n",
    "# Split dataset into training set and test set\n",
    "X_train, X_test, Y_train, Y_test = train_test_split(X, Y, test_size=0.25, random_state=1)"
   ]
  },
  {
   "cell_type": "code",
   "execution_count": 14,
   "id": "c31ebdad",
   "metadata": {
    "execution": {
     "iopub.execute_input": "2024-07-28T01:59:33.506638Z",
     "iopub.status.busy": "2024-07-28T01:59:33.506170Z",
     "iopub.status.idle": "2024-07-28T01:59:33.514316Z",
     "shell.execute_reply": "2024-07-28T01:59:33.513107Z"
    },
    "papermill": {
     "duration": 0.044589,
     "end_time": "2024-07-28T01:59:33.517140",
     "exception": false,
     "start_time": "2024-07-28T01:59:33.472551",
     "status": "completed"
    },
    "tags": []
   },
   "outputs": [
    {
     "data": {
      "text/plain": [
       "4075"
      ]
     },
     "execution_count": 14,
     "metadata": {},
     "output_type": "execute_result"
    }
   ],
   "source": [
    "X_train.shape[0]"
   ]
  },
  {
   "cell_type": "code",
   "execution_count": 15,
   "id": "f0d89c29",
   "metadata": {
    "execution": {
     "iopub.execute_input": "2024-07-28T01:59:33.585837Z",
     "iopub.status.busy": "2024-07-28T01:59:33.584406Z",
     "iopub.status.idle": "2024-07-28T01:59:33.592740Z",
     "shell.execute_reply": "2024-07-28T01:59:33.591480Z"
    },
    "papermill": {
     "duration": 0.04625,
     "end_time": "2024-07-28T01:59:33.595503",
     "exception": false,
     "start_time": "2024-07-28T01:59:33.549253",
     "status": "completed"
    },
    "tags": []
   },
   "outputs": [
    {
     "data": {
      "text/plain": [
       "1359"
      ]
     },
     "execution_count": 15,
     "metadata": {},
     "output_type": "execute_result"
    }
   ],
   "source": [
    "X_test.shape[0]"
   ]
  },
  {
   "cell_type": "code",
   "execution_count": 16,
   "id": "4edff34b",
   "metadata": {
    "execution": {
     "iopub.execute_input": "2024-07-28T01:59:33.663922Z",
     "iopub.status.busy": "2024-07-28T01:59:33.662678Z",
     "iopub.status.idle": "2024-07-28T01:59:33.671994Z",
     "shell.execute_reply": "2024-07-28T01:59:33.670501Z"
    },
    "papermill": {
     "duration": 0.046593,
     "end_time": "2024-07-28T01:59:33.674828",
     "exception": false,
     "start_time": "2024-07-28T01:59:33.628235",
     "status": "completed"
    },
    "tags": []
   },
   "outputs": [
    {
     "data": {
      "text/plain": [
       "4075"
      ]
     },
     "execution_count": 16,
     "metadata": {},
     "output_type": "execute_result"
    }
   ],
   "source": [
    "Y_train.shape[0]"
   ]
  },
  {
   "cell_type": "code",
   "execution_count": 17,
   "id": "aae1d749",
   "metadata": {
    "execution": {
     "iopub.execute_input": "2024-07-28T01:59:33.741538Z",
     "iopub.status.busy": "2024-07-28T01:59:33.741040Z",
     "iopub.status.idle": "2024-07-28T01:59:33.749043Z",
     "shell.execute_reply": "2024-07-28T01:59:33.747708Z"
    },
    "papermill": {
     "duration": 0.044349,
     "end_time": "2024-07-28T01:59:33.751656",
     "exception": false,
     "start_time": "2024-07-28T01:59:33.707307",
     "status": "completed"
    },
    "tags": []
   },
   "outputs": [
    {
     "data": {
      "text/plain": [
       "1359"
      ]
     },
     "execution_count": 17,
     "metadata": {},
     "output_type": "execute_result"
    }
   ],
   "source": [
    "Y_test.shape[0]"
   ]
  },
  {
   "cell_type": "code",
   "execution_count": 18,
   "id": "c6d7f3ac",
   "metadata": {
    "execution": {
     "iopub.execute_input": "2024-07-28T01:59:33.818622Z",
     "iopub.status.busy": "2024-07-28T01:59:33.818104Z",
     "iopub.status.idle": "2024-07-28T01:59:33.828353Z",
     "shell.execute_reply": "2024-07-28T01:59:33.826981Z"
    },
    "papermill": {
     "duration": 0.047067,
     "end_time": "2024-07-28T01:59:33.831105",
     "exception": false,
     "start_time": "2024-07-28T01:59:33.784038",
     "status": "completed"
    },
    "tags": []
   },
   "outputs": [
    {
     "data": {
      "text/plain": [
       "1    3299\n",
       "0     776\n",
       "Name: COVID-19, dtype: int64"
      ]
     },
     "execution_count": 18,
     "metadata": {},
     "output_type": "execute_result"
    }
   ],
   "source": [
    "y_train_counts = pd.Series(Y_train).value_counts()\n",
    "y_train_counts"
   ]
  },
  {
   "cell_type": "code",
   "execution_count": 19,
   "id": "5dfe68f2",
   "metadata": {
    "execution": {
     "iopub.execute_input": "2024-07-28T01:59:33.898280Z",
     "iopub.status.busy": "2024-07-28T01:59:33.897851Z",
     "iopub.status.idle": "2024-07-28T01:59:34.045469Z",
     "shell.execute_reply": "2024-07-28T01:59:34.043541Z"
    },
    "papermill": {
     "duration": 0.187403,
     "end_time": "2024-07-28T01:59:34.051078",
     "exception": false,
     "start_time": "2024-07-28T01:59:33.863675",
     "status": "completed"
    },
    "tags": []
   },
   "outputs": [
    {
     "data": {
      "image/png": "[encoded data removed]",
      "text/plain": [
       "<Figure size 432x576 with 1 Axes>"
      ]
     },
     "metadata": {},
     "output_type": "display_data"
    }
   ],
   "source": [
    "value_counts = Y_train.value_counts()\n",
    "\n",
    "labels = {1: 'Yes', 0: 'No'}\n",
    "labels_to_use = [labels[value] for value in value_counts.index]\n",
    "\n",
    "plt.figure(figsize=(6,8))\n",
    "plt.pie(value_counts,\n",
    "        labels=labels_to_use,\n",
    "        explode=(.1, 0), \n",
    "        colors=['blue', 'skyblue'], \n",
    "        autopct=\"%1.1f%%\", \n",
    "        startangle=90)\n",
    "plt.title('Distribution of COVID-19')\n",
    "plt.show()"
   ]
  },
  {
   "cell_type": "markdown",
   "id": "9e662ce8",
   "metadata": {
    "papermill": {
     "duration": 0.033068,
     "end_time": "2024-07-28T01:59:34.147925",
     "exception": false,
     "start_time": "2024-07-28T01:59:34.114857",
     "status": "completed"
    },
    "tags": []
   },
   "source": [
    "The pie chart shows that the data train is imbalanced. To handle this, we will use oversampling with SMOTE to balance out the data."
   ]
  },
  {
   "cell_type": "markdown",
   "id": "9d883155",
   "metadata": {
    "papermill": {
     "duration": 0.033638,
     "end_time": "2024-07-28T01:59:34.215729",
     "exception": false,
     "start_time": "2024-07-28T01:59:34.182091",
     "status": "completed"
    },
    "tags": []
   },
   "source": [
    "# Oversampling with Smote"
   ]
  },
  {
   "cell_type": "code",
   "execution_count": 20,
   "id": "b2e1b882",
   "metadata": {
    "execution": {
     "iopub.execute_input": "2024-07-28T01:59:34.285835Z",
     "iopub.status.busy": "2024-07-28T01:59:34.285324Z",
     "iopub.status.idle": "2024-07-28T01:59:34.757289Z",
     "shell.execute_reply": "2024-07-28T01:59:34.755199Z"
    },
    "papermill": {
     "duration": 0.512118,
     "end_time": "2024-07-28T01:59:34.762662",
     "exception": false,
     "start_time": "2024-07-28T01:59:34.250544",
     "status": "completed"
    },
    "tags": []
   },
   "outputs": [
    {
     "data": {
      "text/html": [
       "<div>\n",
       "<style scoped>\n",
       "    .dataframe tbody tr th:only-of-type {\n",
       "        vertical-align: middle;\n",
       "    }\n",
       "\n",
       "    .dataframe tbody tr th {\n",
       "        vertical-align: top;\n",
       "    }\n",
       "\n",
       "    .dataframe thead th {\n",
       "        text-align: right;\n",
       "    }\n",
       "</style>\n",
       "<table border=\"1\" class=\"dataframe\">\n",
       "  <thead>\n",
       "    <tr style=\"text-align: right;\">\n",
       "      <th></th>\n",
       "      <th>Breathing Problem</th>\n",
       "      <th>Fever</th>\n",
       "      <th>Dry Cough</th>\n",
       "      <th>Sore throat</th>\n",
       "      <th>Running Nose</th>\n",
       "      <th>Asthma</th>\n",
       "      <th>Chronic Lung Disease</th>\n",
       "      <th>Headache</th>\n",
       "      <th>Heart Disease</th>\n",
       "      <th>Diabetes</th>\n",
       "      <th>Hyper Tension</th>\n",
       "      <th>Fatigue</th>\n",
       "      <th>Gastrointestinal</th>\n",
       "      <th>Abroad travel</th>\n",
       "      <th>Contact with COVID Patient</th>\n",
       "      <th>Attended Large Gathering</th>\n",
       "      <th>Visited Public Exposed Places</th>\n",
       "      <th>Family working in Public Exposed Places</th>\n",
       "      <th>COVID-19</th>\n",
       "    </tr>\n",
       "  </thead>\n",
       "  <tbody>\n",
       "    <tr>\n",
       "      <th>0</th>\n",
       "      <td>0</td>\n",
       "      <td>1</td>\n",
       "      <td>0</td>\n",
       "      <td>0</td>\n",
       "      <td>0</td>\n",
       "      <td>0</td>\n",
       "      <td>1</td>\n",
       "      <td>0</td>\n",
       "      <td>0</td>\n",
       "      <td>0</td>\n",
       "      <td>0</td>\n",
       "      <td>1</td>\n",
       "      <td>0</td>\n",
       "      <td>0</td>\n",
       "      <td>0</td>\n",
       "      <td>0</td>\n",
       "      <td>0</td>\n",
       "      <td>0</td>\n",
       "      <td>0</td>\n",
       "    </tr>\n",
       "    <tr>\n",
       "      <th>1</th>\n",
       "      <td>1</td>\n",
       "      <td>1</td>\n",
       "      <td>0</td>\n",
       "      <td>1</td>\n",
       "      <td>0</td>\n",
       "      <td>0</td>\n",
       "      <td>1</td>\n",
       "      <td>1</td>\n",
       "      <td>1</td>\n",
       "      <td>1</td>\n",
       "      <td>0</td>\n",
       "      <td>0</td>\n",
       "      <td>1</td>\n",
       "      <td>0</td>\n",
       "      <td>1</td>\n",
       "      <td>1</td>\n",
       "      <td>0</td>\n",
       "      <td>0</td>\n",
       "      <td>1</td>\n",
       "    </tr>\n",
       "    <tr>\n",
       "      <th>2</th>\n",
       "      <td>1</td>\n",
       "      <td>1</td>\n",
       "      <td>1</td>\n",
       "      <td>0</td>\n",
       "      <td>1</td>\n",
       "      <td>0</td>\n",
       "      <td>0</td>\n",
       "      <td>1</td>\n",
       "      <td>0</td>\n",
       "      <td>1</td>\n",
       "      <td>0</td>\n",
       "      <td>1</td>\n",
       "      <td>1</td>\n",
       "      <td>0</td>\n",
       "      <td>1</td>\n",
       "      <td>0</td>\n",
       "      <td>0</td>\n",
       "      <td>0</td>\n",
       "      <td>1</td>\n",
       "    </tr>\n",
       "    <tr>\n",
       "      <th>3</th>\n",
       "      <td>0</td>\n",
       "      <td>1</td>\n",
       "      <td>1</td>\n",
       "      <td>0</td>\n",
       "      <td>0</td>\n",
       "      <td>0</td>\n",
       "      <td>1</td>\n",
       "      <td>1</td>\n",
       "      <td>1</td>\n",
       "      <td>0</td>\n",
       "      <td>0</td>\n",
       "      <td>0</td>\n",
       "      <td>1</td>\n",
       "      <td>0</td>\n",
       "      <td>1</td>\n",
       "      <td>0</td>\n",
       "      <td>0</td>\n",
       "      <td>0</td>\n",
       "      <td>0</td>\n",
       "    </tr>\n",
       "    <tr>\n",
       "      <th>4</th>\n",
       "      <td>0</td>\n",
       "      <td>1</td>\n",
       "      <td>1</td>\n",
       "      <td>1</td>\n",
       "      <td>0</td>\n",
       "      <td>0</td>\n",
       "      <td>0</td>\n",
       "      <td>0</td>\n",
       "      <td>1</td>\n",
       "      <td>0</td>\n",
       "      <td>0</td>\n",
       "      <td>1</td>\n",
       "      <td>1</td>\n",
       "      <td>1</td>\n",
       "      <td>1</td>\n",
       "      <td>0</td>\n",
       "      <td>1</td>\n",
       "      <td>1</td>\n",
       "      <td>1</td>\n",
       "    </tr>\n",
       "    <tr>\n",
       "      <th>...</th>\n",
       "      <td>...</td>\n",
       "      <td>...</td>\n",
       "      <td>...</td>\n",
       "      <td>...</td>\n",
       "      <td>...</td>\n",
       "      <td>...</td>\n",
       "      <td>...</td>\n",
       "      <td>...</td>\n",
       "      <td>...</td>\n",
       "      <td>...</td>\n",
       "      <td>...</td>\n",
       "      <td>...</td>\n",
       "      <td>...</td>\n",
       "      <td>...</td>\n",
       "      <td>...</td>\n",
       "      <td>...</td>\n",
       "      <td>...</td>\n",
       "      <td>...</td>\n",
       "      <td>...</td>\n",
       "    </tr>\n",
       "    <tr>\n",
       "      <th>6593</th>\n",
       "      <td>0</td>\n",
       "      <td>1</td>\n",
       "      <td>0</td>\n",
       "      <td>1</td>\n",
       "      <td>0</td>\n",
       "      <td>1</td>\n",
       "      <td>1</td>\n",
       "      <td>1</td>\n",
       "      <td>0</td>\n",
       "      <td>1</td>\n",
       "      <td>0</td>\n",
       "      <td>0</td>\n",
       "      <td>1</td>\n",
       "      <td>0</td>\n",
       "      <td>0</td>\n",
       "      <td>0</td>\n",
       "      <td>1</td>\n",
       "      <td>1</td>\n",
       "      <td>0</td>\n",
       "    </tr>\n",
       "    <tr>\n",
       "      <th>6594</th>\n",
       "      <td>1</td>\n",
       "      <td>1</td>\n",
       "      <td>0</td>\n",
       "      <td>0</td>\n",
       "      <td>0</td>\n",
       "      <td>0</td>\n",
       "      <td>0</td>\n",
       "      <td>0</td>\n",
       "      <td>1</td>\n",
       "      <td>1</td>\n",
       "      <td>0</td>\n",
       "      <td>1</td>\n",
       "      <td>0</td>\n",
       "      <td>0</td>\n",
       "      <td>0</td>\n",
       "      <td>0</td>\n",
       "      <td>1</td>\n",
       "      <td>0</td>\n",
       "      <td>0</td>\n",
       "    </tr>\n",
       "    <tr>\n",
       "      <th>6595</th>\n",
       "      <td>0</td>\n",
       "      <td>0</td>\n",
       "      <td>0</td>\n",
       "      <td>0</td>\n",
       "      <td>0</td>\n",
       "      <td>0</td>\n",
       "      <td>1</td>\n",
       "      <td>1</td>\n",
       "      <td>0</td>\n",
       "      <td>0</td>\n",
       "      <td>0</td>\n",
       "      <td>1</td>\n",
       "      <td>1</td>\n",
       "      <td>0</td>\n",
       "      <td>0</td>\n",
       "      <td>0</td>\n",
       "      <td>0</td>\n",
       "      <td>0</td>\n",
       "      <td>0</td>\n",
       "    </tr>\n",
       "    <tr>\n",
       "      <th>6596</th>\n",
       "      <td>0</td>\n",
       "      <td>0</td>\n",
       "      <td>1</td>\n",
       "      <td>0</td>\n",
       "      <td>0</td>\n",
       "      <td>0</td>\n",
       "      <td>1</td>\n",
       "      <td>0</td>\n",
       "      <td>0</td>\n",
       "      <td>0</td>\n",
       "      <td>0</td>\n",
       "      <td>0</td>\n",
       "      <td>0</td>\n",
       "      <td>0</td>\n",
       "      <td>1</td>\n",
       "      <td>0</td>\n",
       "      <td>0</td>\n",
       "      <td>0</td>\n",
       "      <td>0</td>\n",
       "    </tr>\n",
       "    <tr>\n",
       "      <th>6597</th>\n",
       "      <td>0</td>\n",
       "      <td>0</td>\n",
       "      <td>0</td>\n",
       "      <td>0</td>\n",
       "      <td>0</td>\n",
       "      <td>0</td>\n",
       "      <td>1</td>\n",
       "      <td>1</td>\n",
       "      <td>0</td>\n",
       "      <td>0</td>\n",
       "      <td>0</td>\n",
       "      <td>1</td>\n",
       "      <td>1</td>\n",
       "      <td>0</td>\n",
       "      <td>0</td>\n",
       "      <td>0</td>\n",
       "      <td>0</td>\n",
       "      <td>0</td>\n",
       "      <td>0</td>\n",
       "    </tr>\n",
       "  </tbody>\n",
       "</table>\n",
       "<p>6598 rows × 19 columns</p>\n",
       "</div>"
      ],
      "text/plain": [
       "      Breathing Problem  Fever  Dry Cough  Sore throat  Running Nose  Asthma  \\\n",
       "0                     0      1          0            0             0       0   \n",
       "1                     1      1          0            1             0       0   \n",
       "2                     1      1          1            0             1       0   \n",
       "3                     0      1          1            0             0       0   \n",
       "4                     0      1          1            1             0       0   \n",
       "...                 ...    ...        ...          ...           ...     ...   \n",
       "6593                  0      1          0            1             0       1   \n",
       "6594                  1      1          0            0             0       0   \n",
       "6595                  0      0          0            0             0       0   \n",
       "6596                  0      0          1            0             0       0   \n",
       "6597                  0      0          0            0             0       0   \n",
       "\n",
       "      Chronic Lung Disease  Headache  Heart Disease  Diabetes  Hyper Tension  \\\n",
       "0                        1         0              0         0              0   \n",
       "1                        1         1              1         1              0   \n",
       "2                        0         1              0         1              0   \n",
       "3                        1         1              1         0              0   \n",
       "4                        0         0              1         0              0   \n",
       "...                    ...       ...            ...       ...            ...   \n",
       "6593                     1         1              0         1              0   \n",
       "6594                     0         0              1         1              0   \n",
       "6595                     1         1              0         0              0   \n",
       "6596                     1         0              0         0              0   \n",
       "6597                     1         1              0         0              0   \n",
       "\n",
       "      Fatigue   Gastrointestinal   Abroad travel  Contact with COVID Patient  \\\n",
       "0            1                  0              0                           0   \n",
       "1            0                  1              0                           1   \n",
       "2            1                  1              0                           1   \n",
       "3            0                  1              0                           1   \n",
       "4            1                  1              1                           1   \n",
       "...        ...                ...            ...                         ...   \n",
       "6593         0                  1              0                           0   \n",
       "6594         1                  0              0                           0   \n",
       "6595         1                  1              0                           0   \n",
       "6596         0                  0              0                           1   \n",
       "6597         1                  1              0                           0   \n",
       "\n",
       "      Attended Large Gathering  Visited Public Exposed Places  \\\n",
       "0                            0                              0   \n",
       "1                            1                              0   \n",
       "2                            0                              0   \n",
       "3                            0                              0   \n",
       "4                            0                              1   \n",
       "...                        ...                            ...   \n",
       "6593                         0                              1   \n",
       "6594                         0                              1   \n",
       "6595                         0                              0   \n",
       "6596                         0                              0   \n",
       "6597                         0                              0   \n",
       "\n",
       "      Family working in Public Exposed Places  COVID-19  \n",
       "0                                           0         0  \n",
       "1                                           0         1  \n",
       "2                                           0         1  \n",
       "3                                           0         0  \n",
       "4                                           1         1  \n",
       "...                                       ...       ...  \n",
       "6593                                        1         0  \n",
       "6594                                        0         0  \n",
       "6595                                        0         0  \n",
       "6596                                        0         0  \n",
       "6597                                        0         0  \n",
       "\n",
       "[6598 rows x 19 columns]"
      ]
     },
     "execution_count": 20,
     "metadata": {},
     "output_type": "execute_result"
    }
   ],
   "source": [
    "from imblearn.over_sampling import SMOTE\n",
    "\n",
    "smote = SMOTE(random_state=123)\n",
    "X_train_resampled, y_train_resampled = smote.fit_resample(X_train, Y_train)\n",
    "\n",
    "# Combine back into a new DataFrame\n",
    "df_train_resampled = pd.DataFrame(X_train_resampled, columns=X_train.columns)\n",
    "df_train_resampled['COVID-19'] = y_train_resampled\n",
    "df_train_resampled"
   ]
  },
  {
   "cell_type": "code",
   "execution_count": 21,
   "id": "f042e4eb",
   "metadata": {
    "execution": {
     "iopub.execute_input": "2024-07-28T01:59:34.844500Z",
     "iopub.status.busy": "2024-07-28T01:59:34.844024Z",
     "iopub.status.idle": "2024-07-28T01:59:34.962181Z",
     "shell.execute_reply": "2024-07-28T01:59:34.960403Z"
    },
    "papermill": {
     "duration": 0.15814,
     "end_time": "2024-07-28T01:59:34.967622",
     "exception": false,
     "start_time": "2024-07-28T01:59:34.809482",
     "status": "completed"
    },
    "tags": []
   },
   "outputs": [
    {
     "data": {
      "image/png": "[encoded data removed]",
      "text/plain": [
       "<Figure size 432x576 with 1 Axes>"
      ]
     },
     "metadata": {},
     "output_type": "display_data"
    }
   ],
   "source": [
    "value_counts = df_train_resampled['COVID-19'].value_counts()\n",
    "\n",
    "plt.figure(figsize=(6,8))\n",
    "plt.pie(value_counts,\n",
    "        labels=labels_to_use,\n",
    "        explode=(.1, 0), \n",
    "        colors=['blue', 'skyblue'], \n",
    "        autopct=\"%1.1f%%\", \n",
    "        startangle=90)\n",
    "plt.title('Distribution of COVID-19 after Oversampling')\n",
    "plt.show()"
   ]
  },
  {
   "cell_type": "markdown",
   "id": "c822fa1b",
   "metadata": {
    "papermill": {
     "duration": 0.034492,
     "end_time": "2024-07-28T01:59:35.068441",
     "exception": false,
     "start_time": "2024-07-28T01:59:35.033949",
     "status": "completed"
    },
    "tags": []
   },
   "source": [
    "After applying SMOTE to oversample the data, the classes in the training data are now balanced. Consequently, we have two sets of training data: one before applying SMOTE and one after applying SMOTE. The training model will be trained on both sets of data, and the results will be compared."
   ]
  },
  {
   "cell_type": "markdown",
   "id": "138c9eaf",
   "metadata": {
    "papermill": {
     "duration": 0.034128,
     "end_time": "2024-07-28T01:59:35.137207",
     "exception": false,
     "start_time": "2024-07-28T01:59:35.103079",
     "status": "completed"
    },
    "tags": []
   },
   "source": [
    "# Training Model"
   ]
  },
  {
   "cell_type": "markdown",
   "id": "f847d969",
   "metadata": {
    "papermill": {
     "duration": 0.034805,
     "end_time": "2024-07-28T01:59:35.205834",
     "exception": false,
     "start_time": "2024-07-28T01:59:35.171029",
     "status": "completed"
    },
    "tags": []
   },
   "source": [
    "### Model with data train before applying SMOTE"
   ]
  },
  {
   "cell_type": "code",
   "execution_count": 22,
   "id": "c323a0c3",
   "metadata": {
    "execution": {
     "iopub.execute_input": "2024-07-28T01:59:35.276295Z",
     "iopub.status.busy": "2024-07-28T01:59:35.275862Z",
     "iopub.status.idle": "2024-07-28T01:59:35.282556Z",
     "shell.execute_reply": "2024-07-28T01:59:35.281139Z"
    },
    "papermill": {
     "duration": 0.045166,
     "end_time": "2024-07-28T01:59:35.285302",
     "exception": false,
     "start_time": "2024-07-28T01:59:35.240136",
     "status": "completed"
    },
    "tags": []
   },
   "outputs": [],
   "source": [
    "from sklearn.svm import SVC\n",
    "from sklearn.linear_model import LogisticRegression\n",
    "from sklearn.tree import DecisionTreeClassifier\n",
    "from sklearn.metrics import accuracy_score, confusion_matrix"
   ]
  },
  {
   "cell_type": "code",
   "execution_count": 23,
   "id": "6fc63854",
   "metadata": {
    "execution": {
     "iopub.execute_input": "2024-07-28T01:59:35.356606Z",
     "iopub.status.busy": "2024-07-28T01:59:35.355445Z",
     "iopub.status.idle": "2024-07-28T01:59:35.911219Z",
     "shell.execute_reply": "2024-07-28T01:59:35.909653Z"
    },
    "papermill": {
     "duration": 0.595154,
     "end_time": "2024-07-28T01:59:35.914303",
     "exception": false,
     "start_time": "2024-07-28T01:59:35.319149",
     "status": "completed"
    },
    "tags": []
   },
   "outputs": [],
   "source": [
    "# SVM Model\n",
    "svm_model = SVC(probability=True)\n",
    "svm_model.fit(X_train, Y_train)\n",
    "\n",
    "y_pred_svm = svm_model.predict(X_test)"
   ]
  },
  {
   "cell_type": "code",
   "execution_count": 24,
   "id": "bd591fe8",
   "metadata": {
    "execution": {
     "iopub.execute_input": "2024-07-28T01:59:35.984637Z",
     "iopub.status.busy": "2024-07-28T01:59:35.984144Z",
     "iopub.status.idle": "2024-07-28T01:59:36.186966Z",
     "shell.execute_reply": "2024-07-28T01:59:36.185490Z"
    },
    "papermill": {
     "duration": 0.241132,
     "end_time": "2024-07-28T01:59:36.189936",
     "exception": false,
     "start_time": "2024-07-28T01:59:35.948804",
     "status": "completed"
    },
    "tags": []
   },
   "outputs": [
    {
     "data": {
      "text/plain": [
       "0.9815950920245399"
      ]
     },
     "execution_count": 24,
     "metadata": {},
     "output_type": "execute_result"
    }
   ],
   "source": [
    "# Accuracy on training set\n",
    "svm_model.score(X_train, Y_train)"
   ]
  },
  {
   "cell_type": "code",
   "execution_count": 25,
   "id": "ef59d32f",
   "metadata": {
    "execution": {
     "iopub.execute_input": "2024-07-28T01:59:36.261984Z",
     "iopub.status.busy": "2024-07-28T01:59:36.261522Z",
     "iopub.status.idle": "2024-07-28T01:59:36.336515Z",
     "shell.execute_reply": "2024-07-28T01:59:36.335243Z"
    },
    "papermill": {
     "duration": 0.114372,
     "end_time": "2024-07-28T01:59:36.339359",
     "exception": false,
     "start_time": "2024-07-28T01:59:36.224987",
     "status": "completed"
    },
    "tags": []
   },
   "outputs": [
    {
     "data": {
      "text/plain": [
       "0.9823399558498896"
      ]
     },
     "execution_count": 25,
     "metadata": {},
     "output_type": "execute_result"
    }
   ],
   "source": [
    "# Accuracy on test set\n",
    "svm_model.score(X_test, Y_test)"
   ]
  },
  {
   "cell_type": "code",
   "execution_count": 26,
   "id": "7b50eda4",
   "metadata": {
    "execution": {
     "iopub.execute_input": "2024-07-28T01:59:36.411936Z",
     "iopub.status.busy": "2024-07-28T01:59:36.411476Z",
     "iopub.status.idle": "2024-07-28T01:59:36.670976Z",
     "shell.execute_reply": "2024-07-28T01:59:36.669686Z"
    },
    "papermill": {
     "duration": 0.300231,
     "end_time": "2024-07-28T01:59:36.674033",
     "exception": false,
     "start_time": "2024-07-28T01:59:36.373802",
     "status": "completed"
    },
    "tags": []
   },
   "outputs": [
    {
     "data": {
      "image/png": "[encoded data removed]",
      "text/plain": [
       "<Figure size 432x288 with 2 Axes>"
      ]
     },
     "metadata": {
      "needs_background": "light"
     },
     "output_type": "display_data"
    }
   ],
   "source": [
    "cm_svm=confusion_matrix(Y_test, y_pred_svm)\n",
    "sns.heatmap(cm_svm,\n",
    "            annot=True,\n",
    "            fmt='g',\n",
    "            xticklabels=['yes','no'],\n",
    "            yticklabels=['yes','no'])\n",
    "plt.ylabel('Prediction',fontsize=13)\n",
    "plt.xlabel('Actual',fontsize=13)\n",
    "plt.title('Confusion Matrix SVM Model',fontsize=17)\n",
    "plt.show()"
   ]
  },
  {
   "cell_type": "code",
   "execution_count": 27,
   "id": "80454597",
   "metadata": {
    "execution": {
     "iopub.execute_input": "2024-07-28T01:59:36.745987Z",
     "iopub.status.busy": "2024-07-28T01:59:36.745473Z",
     "iopub.status.idle": "2024-07-28T01:59:36.764149Z",
     "shell.execute_reply": "2024-07-28T01:59:36.762774Z"
    },
    "papermill": {
     "duration": 0.058014,
     "end_time": "2024-07-28T01:59:36.767187",
     "exception": false,
     "start_time": "2024-07-28T01:59:36.709173",
     "status": "completed"
    },
    "tags": []
   },
   "outputs": [],
   "source": [
    "# Decision Tree Model\n",
    "dcs_model = DecisionTreeClassifier()\n",
    "dcs_model.fit(X_train, Y_train)\n",
    "\n",
    "y_pred_dcs = dcs_model.predict(X_test)"
   ]
  },
  {
   "cell_type": "code",
   "execution_count": 28,
   "id": "47e9d7bb",
   "metadata": {
    "execution": {
     "iopub.execute_input": "2024-07-28T01:59:36.838123Z",
     "iopub.status.busy": "2024-07-28T01:59:36.837258Z",
     "iopub.status.idle": "2024-07-28T01:59:36.849704Z",
     "shell.execute_reply": "2024-07-28T01:59:36.848273Z"
    },
    "papermill": {
     "duration": 0.050999,
     "end_time": "2024-07-28T01:59:36.852460",
     "exception": false,
     "start_time": "2024-07-28T01:59:36.801461",
     "status": "completed"
    },
    "tags": []
   },
   "outputs": [
    {
     "data": {
      "text/plain": [
       "0.981840490797546"
      ]
     },
     "execution_count": 28,
     "metadata": {},
     "output_type": "execute_result"
    }
   ],
   "source": [
    "# Accuracy on training set\n",
    "dcs_model.score(X_train, Y_train)"
   ]
  },
  {
   "cell_type": "code",
   "execution_count": 29,
   "id": "bcc57538",
   "metadata": {
    "execution": {
     "iopub.execute_input": "2024-07-28T01:59:36.924355Z",
     "iopub.status.busy": "2024-07-28T01:59:36.923262Z",
     "iopub.status.idle": "2024-07-28T01:59:36.936699Z",
     "shell.execute_reply": "2024-07-28T01:59:36.935392Z"
    },
    "papermill": {
     "duration": 0.052262,
     "end_time": "2024-07-28T01:59:36.939375",
     "exception": false,
     "start_time": "2024-07-28T01:59:36.887113",
     "status": "completed"
    },
    "tags": []
   },
   "outputs": [
    {
     "data": {
      "text/plain": [
       "0.9852832965415746"
      ]
     },
     "execution_count": 29,
     "metadata": {},
     "output_type": "execute_result"
    }
   ],
   "source": [
    "# Accuracy on test set\n",
    "dcs_model.score(X_test, Y_test)"
   ]
  },
  {
   "cell_type": "code",
   "execution_count": 30,
   "id": "6b33d554",
   "metadata": {
    "execution": {
     "iopub.execute_input": "2024-07-28T01:59:37.012480Z",
     "iopub.status.busy": "2024-07-28T01:59:37.011332Z",
     "iopub.status.idle": "2024-07-28T01:59:37.274815Z",
     "shell.execute_reply": "2024-07-28T01:59:37.273252Z"
    },
    "papermill": {
     "duration": 0.303633,
     "end_time": "2024-07-28T01:59:37.277808",
     "exception": false,
     "start_time": "2024-07-28T01:59:36.974175",
     "status": "completed"
    },
    "tags": []
   },
   "outputs": [
    {
     "data": {
      "image/png": "[encoded data removed]",
      "text/plain": [
       "<Figure size 432x288 with 2 Axes>"
      ]
     },
     "metadata": {
      "needs_background": "light"
     },
     "output_type": "display_data"
    }
   ],
   "source": [
    "cm_dcs=confusion_matrix(Y_test, y_pred_dcs)\n",
    "sns.heatmap(cm_dcs,\n",
    "            annot=True,\n",
    "            fmt='g',\n",
    "            xticklabels=['yes','no'],\n",
    "            yticklabels=['yes','no'])\n",
    "plt.ylabel('Prediction',fontsize=13)\n",
    "plt.xlabel('Actual',fontsize=13)\n",
    "plt.title('Confusion Matrix DecisionTree Model',fontsize=17)\n",
    "plt.show()"
   ]
  },
  {
   "cell_type": "code",
   "execution_count": 31,
   "id": "a5b65ec8",
   "metadata": {
    "execution": {
     "iopub.execute_input": "2024-07-28T01:59:37.349962Z",
     "iopub.status.busy": "2024-07-28T01:59:37.349022Z",
     "iopub.status.idle": "2024-07-28T01:59:37.398460Z",
     "shell.execute_reply": "2024-07-28T01:59:37.396298Z"
    },
    "papermill": {
     "duration": 0.095424,
     "end_time": "2024-07-28T01:59:37.408238",
     "exception": false,
     "start_time": "2024-07-28T01:59:37.312814",
     "status": "completed"
    },
    "tags": []
   },
   "outputs": [],
   "source": [
    "# Logistic Regression Model\n",
    "logistic_model = LogisticRegression()\n",
    "logistic_model.fit(X_train, Y_train)\n",
    "\n",
    "y_pred_logistic = logistic_model.predict(X_test)"
   ]
  },
  {
   "cell_type": "code",
   "execution_count": 32,
   "id": "654c0ca0",
   "metadata": {
    "execution": {
     "iopub.execute_input": "2024-07-28T01:59:37.539675Z",
     "iopub.status.busy": "2024-07-28T01:59:37.538709Z",
     "iopub.status.idle": "2024-07-28T01:59:37.551996Z",
     "shell.execute_reply": "2024-07-28T01:59:37.550447Z"
    },
    "papermill": {
     "duration": 0.070175,
     "end_time": "2024-07-28T01:59:37.556092",
     "exception": false,
     "start_time": "2024-07-28T01:59:37.485917",
     "status": "completed"
    },
    "tags": []
   },
   "outputs": [
    {
     "data": {
      "text/plain": [
       "0.969079754601227"
      ]
     },
     "execution_count": 32,
     "metadata": {},
     "output_type": "execute_result"
    }
   ],
   "source": [
    "# Accuracy on training set\n",
    "logistic_model.score(X_train, Y_train)"
   ]
  },
  {
   "cell_type": "code",
   "execution_count": 33,
   "id": "3e5a300b",
   "metadata": {
    "execution": {
     "iopub.execute_input": "2024-07-28T01:59:37.686591Z",
     "iopub.status.busy": "2024-07-28T01:59:37.686134Z",
     "iopub.status.idle": "2024-07-28T01:59:37.699807Z",
     "shell.execute_reply": "2024-07-28T01:59:37.698147Z"
    },
    "papermill": {
     "duration": 0.073438,
     "end_time": "2024-07-28T01:59:37.704690",
     "exception": false,
     "start_time": "2024-07-28T01:59:37.631252",
     "status": "completed"
    },
    "tags": []
   },
   "outputs": [
    {
     "data": {
      "text/plain": [
       "0.9624724061810155"
      ]
     },
     "execution_count": 33,
     "metadata": {},
     "output_type": "execute_result"
    }
   ],
   "source": [
    "# Accuracy on test set\n",
    "logistic_model.score(X_test, Y_test)"
   ]
  },
  {
   "cell_type": "code",
   "execution_count": 34,
   "id": "d7f82d83",
   "metadata": {
    "execution": {
     "iopub.execute_input": "2024-07-28T01:59:37.834955Z",
     "iopub.status.busy": "2024-07-28T01:59:37.834491Z",
     "iopub.status.idle": "2024-07-28T01:59:38.093108Z",
     "shell.execute_reply": "2024-07-28T01:59:38.091759Z"
    },
    "papermill": {
     "duration": 0.317135,
     "end_time": "2024-07-28T01:59:38.096205",
     "exception": false,
     "start_time": "2024-07-28T01:59:37.779070",
     "status": "completed"
    },
    "tags": []
   },
   "outputs": [
    {
     "data": {
      "image/png": "[encoded data removed]",
      "text/plain": [
       "<Figure size 432x288 with 2 Axes>"
      ]
     },
     "metadata": {
      "needs_background": "light"
     },
     "output_type": "display_data"
    }
   ],
   "source": [
    "cm_logistic=confusion_matrix(Y_test, y_pred_dcs)\n",
    "sns.heatmap(cm_logistic,\n",
    "            annot=True,\n",
    "            fmt='g',\n",
    "            xticklabels=['yes','no'],\n",
    "            yticklabels=['yes','no'])\n",
    "plt.ylabel('Prediction',fontsize=13)\n",
    "plt.xlabel('Actual',fontsize=13)\n",
    "plt.title('Confusion Matrix Logistic Model',fontsize=17)\n",
    "plt.show()"
   ]
  },
  {
   "cell_type": "markdown",
   "id": "8d06901d",
   "metadata": {
    "papermill": {
     "duration": 0.038278,
     "end_time": "2024-07-28T01:59:38.171357",
     "exception": false,
     "start_time": "2024-07-28T01:59:38.133079",
     "status": "completed"
    },
    "tags": []
   },
   "source": [
    "### Model with data train after applying SMOTE"
   ]
  },
  {
   "cell_type": "code",
   "execution_count": 35,
   "id": "f619e73f",
   "metadata": {
    "execution": {
     "iopub.execute_input": "2024-07-28T01:59:38.245196Z",
     "iopub.status.busy": "2024-07-28T01:59:38.244654Z",
     "iopub.status.idle": "2024-07-28T01:59:38.253737Z",
     "shell.execute_reply": "2024-07-28T01:59:38.252558Z"
    },
    "papermill": {
     "duration": 0.049425,
     "end_time": "2024-07-28T01:59:38.256644",
     "exception": false,
     "start_time": "2024-07-28T01:59:38.207219",
     "status": "completed"
    },
    "tags": []
   },
   "outputs": [],
   "source": [
    "Y_resampled= df_train_resampled['COVID-19']\n",
    "X_resampled = df_train_resampled.drop(['COVID-19'], axis = 1)"
   ]
  },
  {
   "cell_type": "code",
   "execution_count": 36,
   "id": "c8b76a1c",
   "metadata": {
    "execution": {
     "iopub.execute_input": "2024-07-28T01:59:38.334925Z",
     "iopub.status.busy": "2024-07-28T01:59:38.334445Z",
     "iopub.status.idle": "2024-07-28T01:59:38.582429Z",
     "shell.execute_reply": "2024-07-28T01:59:38.581098Z"
    },
    "papermill": {
     "duration": 0.289147,
     "end_time": "2024-07-28T01:59:38.585620",
     "exception": false,
     "start_time": "2024-07-28T01:59:38.296473",
     "status": "completed"
    },
    "tags": []
   },
   "outputs": [],
   "source": [
    "# SVM Model resample data\n",
    "svm_model_re = SVC()\n",
    "svm_model_re.fit(X_resampled, Y_resampled)\n",
    "\n",
    "y_pred_svm_re = svm_model_re.predict(X_test)"
   ]
  },
  {
   "cell_type": "code",
   "execution_count": 37,
   "id": "0a7d1fc2",
   "metadata": {
    "execution": {
     "iopub.execute_input": "2024-07-28T01:59:38.660256Z",
     "iopub.status.busy": "2024-07-28T01:59:38.659303Z",
     "iopub.status.idle": "2024-07-28T01:59:38.853930Z",
     "shell.execute_reply": "2024-07-28T01:59:38.852783Z"
    },
    "papermill": {
     "duration": 0.235343,
     "end_time": "2024-07-28T01:59:38.856860",
     "exception": false,
     "start_time": "2024-07-28T01:59:38.621517",
     "status": "completed"
    },
    "tags": []
   },
   "outputs": [
    {
     "data": {
      "text/plain": [
       "0.9871173082752349"
      ]
     },
     "execution_count": 37,
     "metadata": {},
     "output_type": "execute_result"
    }
   ],
   "source": [
    "# Accuracy on training set\n",
    "svm_model_re.score(X_resampled, Y_resampled)"
   ]
  },
  {
   "cell_type": "code",
   "execution_count": 38,
   "id": "0c83836a",
   "metadata": {
    "execution": {
     "iopub.execute_input": "2024-07-28T01:59:38.930322Z",
     "iopub.status.busy": "2024-07-28T01:59:38.929905Z",
     "iopub.status.idle": "2024-07-28T01:59:38.979868Z",
     "shell.execute_reply": "2024-07-28T01:59:38.978535Z"
    },
    "papermill": {
     "duration": 0.089996,
     "end_time": "2024-07-28T01:59:38.982657",
     "exception": false,
     "start_time": "2024-07-28T01:59:38.892661",
     "status": "completed"
    },
    "tags": []
   },
   "outputs": [
    {
     "data": {
      "text/plain": [
       "0.986019131714496"
      ]
     },
     "execution_count": 38,
     "metadata": {},
     "output_type": "execute_result"
    }
   ],
   "source": [
    "# Accuracy on test set\n",
    "svm_model_re.score(X_test, Y_test)"
   ]
  },
  {
   "cell_type": "code",
   "execution_count": 39,
   "id": "d5fa2046",
   "metadata": {
    "execution": {
     "iopub.execute_input": "2024-07-28T01:59:39.059242Z",
     "iopub.status.busy": "2024-07-28T01:59:39.058207Z",
     "iopub.status.idle": "2024-07-28T01:59:39.320371Z",
     "shell.execute_reply": "2024-07-28T01:59:39.318912Z"
    },
    "papermill": {
     "duration": 0.303988,
     "end_time": "2024-07-28T01:59:39.323254",
     "exception": false,
     "start_time": "2024-07-28T01:59:39.019266",
     "status": "completed"
    },
    "tags": []
   },
   "outputs": [
    {
     "data": {
      "image/png": "[encoded data removed]",
      "text/plain": [
       "<Figure size 432x288 with 2 Axes>"
      ]
     },
     "metadata": {
      "needs_background": "light"
     },
     "output_type": "display_data"
    }
   ],
   "source": [
    "cm_svm_re=confusion_matrix(Y_test, y_pred_svm_re)\n",
    "sns.heatmap(cm_svm_re,\n",
    "            annot=True,\n",
    "            fmt='g',\n",
    "            xticklabels=['yes','no'],\n",
    "            yticklabels=['yes','no'])\n",
    "plt.ylabel('Prediction',fontsize=13)\n",
    "plt.xlabel('Actual',fontsize=13)\n",
    "plt.title('Confusion Matrix SVM Model',fontsize=17)\n",
    "plt.show()"
   ]
  },
  {
   "cell_type": "code",
   "execution_count": 40,
   "id": "bd404ad9",
   "metadata": {
    "execution": {
     "iopub.execute_input": "2024-07-28T01:59:39.399077Z",
     "iopub.status.busy": "2024-07-28T01:59:39.398603Z",
     "iopub.status.idle": "2024-07-28T01:59:39.418527Z",
     "shell.execute_reply": "2024-07-28T01:59:39.417219Z"
    },
    "papermill": {
     "duration": 0.061383,
     "end_time": "2024-07-28T01:59:39.421638",
     "exception": false,
     "start_time": "2024-07-28T01:59:39.360255",
     "status": "completed"
    },
    "tags": []
   },
   "outputs": [],
   "source": [
    "# Decision Tree Model\n",
    "dcs_model_re = DecisionTreeClassifier()\n",
    "dcs_model_re.fit(X_resampled, Y_resampled)\n",
    "\n",
    "y_pred_dcs_re = dcs_model_re.predict(X_test)"
   ]
  },
  {
   "cell_type": "code",
   "execution_count": 41,
   "id": "0b5d0d3b",
   "metadata": {
    "execution": {
     "iopub.execute_input": "2024-07-28T01:59:39.497757Z",
     "iopub.status.busy": "2024-07-28T01:59:39.497277Z",
     "iopub.status.idle": "2024-07-28T01:59:39.510762Z",
     "shell.execute_reply": "2024-07-28T01:59:39.509379Z"
    },
    "papermill": {
     "duration": 0.054219,
     "end_time": "2024-07-28T01:59:39.513582",
     "exception": false,
     "start_time": "2024-07-28T01:59:39.459363",
     "status": "completed"
    },
    "tags": []
   },
   "outputs": [
    {
     "data": {
      "text/plain": [
       "0.9871173082752349"
      ]
     },
     "execution_count": 41,
     "metadata": {},
     "output_type": "execute_result"
    }
   ],
   "source": [
    "# Accuracy on training set\n",
    "dcs_model_re.score(X_resampled, Y_resampled)"
   ]
  },
  {
   "cell_type": "code",
   "execution_count": 42,
   "id": "883d153c",
   "metadata": {
    "execution": {
     "iopub.execute_input": "2024-07-28T01:59:39.588393Z",
     "iopub.status.busy": "2024-07-28T01:59:39.587972Z",
     "iopub.status.idle": "2024-07-28T01:59:39.600644Z",
     "shell.execute_reply": "2024-07-28T01:59:39.599287Z"
    },
    "papermill": {
     "duration": 0.053529,
     "end_time": "2024-07-28T01:59:39.603528",
     "exception": false,
     "start_time": "2024-07-28T01:59:39.549999",
     "status": "completed"
    },
    "tags": []
   },
   "outputs": [
    {
     "data": {
      "text/plain": [
       "0.986019131714496"
      ]
     },
     "execution_count": 42,
     "metadata": {},
     "output_type": "execute_result"
    }
   ],
   "source": [
    "# Accuracy on test set\n",
    "dcs_model_re.score(X_test, Y_test)"
   ]
  },
  {
   "cell_type": "code",
   "execution_count": 43,
   "id": "b81990fe",
   "metadata": {
    "execution": {
     "iopub.execute_input": "2024-07-28T01:59:39.681476Z",
     "iopub.status.busy": "2024-07-28T01:59:39.680295Z",
     "iopub.status.idle": "2024-07-28T01:59:39.941764Z",
     "shell.execute_reply": "2024-07-28T01:59:39.940499Z"
    },
    "papermill": {
     "duration": 0.304531,
     "end_time": "2024-07-28T01:59:39.944730",
     "exception": false,
     "start_time": "2024-07-28T01:59:39.640199",
     "status": "completed"
    },
    "tags": []
   },
   "outputs": [
    {
     "data": {
      "image/png": "[encoded data removed]",
      "text/plain": [
       "<Figure size 432x288 with 2 Axes>"
      ]
     },
     "metadata": {
      "needs_background": "light"
     },
     "output_type": "display_data"
    }
   ],
   "source": [
    "cm_dcs_re=confusion_matrix(Y_test, y_pred_dcs_re)\n",
    "sns.heatmap(cm_dcs_re,\n",
    "            annot=True,\n",
    "            fmt='g',\n",
    "            xticklabels=['yes','no'],\n",
    "            yticklabels=['yes','no'])\n",
    "plt.ylabel('Prediction',fontsize=13)\n",
    "plt.xlabel('Actual',fontsize=13)\n",
    "plt.title('Confusion Matrix DecisionTree Model',fontsize=17)\n",
    "plt.show()"
   ]
  },
  {
   "cell_type": "code",
   "execution_count": 44,
   "id": "b64d6145",
   "metadata": {
    "execution": {
     "iopub.execute_input": "2024-07-28T01:59:40.021699Z",
     "iopub.status.busy": "2024-07-28T01:59:40.021221Z",
     "iopub.status.idle": "2024-07-28T01:59:40.090916Z",
     "shell.execute_reply": "2024-07-28T01:59:40.088634Z"
    },
    "papermill": {
     "duration": 0.113912,
     "end_time": "2024-07-28T01:59:40.095795",
     "exception": false,
     "start_time": "2024-07-28T01:59:39.981883",
     "status": "completed"
    },
    "tags": []
   },
   "outputs": [],
   "source": [
    "# Logistic Regression Model\n",
    "logistic_model_re= LogisticRegression()\n",
    "logistic_model_re.fit(X_resampled, Y_resampled)\n",
    "\n",
    "y_pred_logistic_re = logistic_model_re.predict(X_test)"
   ]
  },
  {
   "cell_type": "code",
   "execution_count": 45,
   "id": "938b6332",
   "metadata": {
    "execution": {
     "iopub.execute_input": "2024-07-28T01:59:40.232392Z",
     "iopub.status.busy": "2024-07-28T01:59:40.231667Z",
     "iopub.status.idle": "2024-07-28T01:59:40.248574Z",
     "shell.execute_reply": "2024-07-28T01:59:40.246766Z"
    },
    "papermill": {
     "duration": 0.077728,
     "end_time": "2024-07-28T01:59:40.253055",
     "exception": false,
     "start_time": "2024-07-28T01:59:40.175327",
     "status": "completed"
    },
    "tags": []
   },
   "outputs": [
    {
     "data": {
      "text/plain": [
       "0.9618066080630494"
      ]
     },
     "execution_count": 45,
     "metadata": {},
     "output_type": "execute_result"
    }
   ],
   "source": [
    "# Accuracy on training set\n",
    "logistic_model_re.score(X_resampled, Y_resampled)"
   ]
  },
  {
   "cell_type": "code",
   "execution_count": 46,
   "id": "be7dd07a",
   "metadata": {
    "execution": {
     "iopub.execute_input": "2024-07-28T01:59:40.386069Z",
     "iopub.status.busy": "2024-07-28T01:59:40.385586Z",
     "iopub.status.idle": "2024-07-28T01:59:40.400002Z",
     "shell.execute_reply": "2024-07-28T01:59:40.398390Z"
    },
    "papermill": {
     "duration": 0.071638,
     "end_time": "2024-07-28T01:59:40.404326",
     "exception": false,
     "start_time": "2024-07-28T01:59:40.332688",
     "status": "completed"
    },
    "tags": []
   },
   "outputs": [
    {
     "data": {
      "text/plain": [
       "0.9514348785871964"
      ]
     },
     "execution_count": 46,
     "metadata": {},
     "output_type": "execute_result"
    }
   ],
   "source": [
    "# Accuracy on test set\n",
    "logistic_model_re.score(X_test, Y_test)"
   ]
  },
  {
   "cell_type": "code",
   "execution_count": 47,
   "id": "ad3d1fed",
   "metadata": {
    "execution": {
     "iopub.execute_input": "2024-07-28T01:59:40.538194Z",
     "iopub.status.busy": "2024-07-28T01:59:40.537679Z",
     "iopub.status.idle": "2024-07-28T01:59:40.798943Z",
     "shell.execute_reply": "2024-07-28T01:59:40.797542Z"
    },
    "papermill": {
     "duration": 0.318808,
     "end_time": "2024-07-28T01:59:40.801943",
     "exception": false,
     "start_time": "2024-07-28T01:59:40.483135",
     "status": "completed"
    },
    "tags": []
   },
   "outputs": [
    {
     "data": {
      "image/png": "[encoded data removed]",
      "text/plain": [
       "<Figure size 432x288 with 2 Axes>"
      ]
     },
     "metadata": {
      "needs_background": "light"
     },
     "output_type": "display_data"
    }
   ],
   "source": [
    "cm_logistic_re=confusion_matrix(Y_test, y_pred_logistic_re)\n",
    "sns.heatmap(cm_logistic_re,\n",
    "            annot=True,\n",
    "            fmt='g',\n",
    "            xticklabels=['yes','no'],\n",
    "            yticklabels=['yes','no'])\n",
    "plt.ylabel('Prediction',fontsize=13)\n",
    "plt.xlabel('Actual',fontsize=13)\n",
    "plt.title('Confusion Matrix Logistic Model',fontsize=17)\n",
    "plt.show()"
   ]
  },
  {
   "cell_type": "code",
   "execution_count": 48,
   "id": "68ef962b",
   "metadata": {
    "execution": {
     "iopub.execute_input": "2024-07-28T01:59:40.879803Z",
     "iopub.status.busy": "2024-07-28T01:59:40.879318Z",
     "iopub.status.idle": "2024-07-28T01:59:41.357043Z",
     "shell.execute_reply": "2024-07-28T01:59:41.355314Z"
    },
    "papermill": {
     "duration": 0.522257,
     "end_time": "2024-07-28T01:59:41.362018",
     "exception": false,
     "start_time": "2024-07-28T01:59:40.839761",
     "status": "completed"
    },
    "tags": []
   },
   "outputs": [],
   "source": [
    "# Accuracy Scores\n",
    "svm_train_accuracy = svm_model.score(X_train, Y_train)\n",
    "svm_test_accuracy = svm_model.score(X_test, Y_test)\n",
    "\n",
    "decision_tree_train_accuracy = dcs_model.score(X_train, Y_train)\n",
    "decision_tree_test_accuracy = dcs_model.score(X_test, Y_test)\n",
    "\n",
    "logistic_train_accuracy = logistic_model.score(X_train, Y_train)\n",
    "logistic_test_accuracy = logistic_model.score(X_test, Y_test)\n",
    "\n",
    "svm_train_accuracy_re = svm_model_re.score(X_resampled, Y_resampled)\n",
    "svm_test_accuracy_re= svm_model_re.score(X_test, Y_test)\n",
    "\n",
    "decision_tree_train_accuracy_re = dcs_model_re.score(X_resampled, Y_resampled)\n",
    "decision_tree_test_accuracy_re = dcs_model_re.score(X_test, Y_test)\n",
    "\n",
    "logistic_train_accuracy_re = logistic_model_re.score(X_resampled, Y_resampled)\n",
    "logistic_test_accuracy_re = logistic_model_re.score(X_test, Y_test)"
   ]
  },
  {
   "cell_type": "code",
   "execution_count": 49,
   "id": "718e8a08",
   "metadata": {
    "execution": {
     "iopub.execute_input": "2024-07-28T01:59:41.499786Z",
     "iopub.status.busy": "2024-07-28T01:59:41.499305Z",
     "iopub.status.idle": "2024-07-28T01:59:41.907454Z",
     "shell.execute_reply": "2024-07-28T01:59:41.905621Z"
    },
    "papermill": {
     "duration": 0.469617,
     "end_time": "2024-07-28T01:59:41.912631",
     "exception": false,
     "start_time": "2024-07-28T01:59:41.443014",
     "status": "completed"
    },
    "tags": []
   },
   "outputs": [
    {
     "name": "stdout",
     "output_type": "stream",
     "text": [
      "                                   Model  Training Accuracy  Test Accuracy  \\\n",
      "0                                    SVM           0.981595       0.982340   \n",
      "1                          Decision Tree           0.981840       0.985283   \n",
      "2                    Logistic Regression           0.969080       0.962472   \n",
      "3                  SVM Data Oversampling           0.987117       0.986019   \n",
      "4        Decision Tree Data Oversampling           0.987117       0.986019   \n",
      "5  Logistic Regression Data Oversampling           0.961807       0.951435   \n",
      "\n",
      "   Precision    Recall  F1-Score  \n",
      "0   0.984461  0.993542  0.988981  \n",
      "1   0.988971  0.992620  0.990792  \n",
      "2   0.967421  0.986162  0.976702  \n",
      "3   1.000000  0.982472  0.991159  \n",
      "4   1.000000  0.982472  0.991159  \n",
      "5   0.991313  0.947417  0.968868  \n"
     ]
    }
   ],
   "source": [
    "from sklearn.metrics import classification_report\n",
    "\n",
    "# Define a function to extract precision, recall, and F1-score from the classification report\n",
    "def extract_metrics(report):\n",
    "    metrics = report['1'] \n",
    "    return metrics['precision'], metrics['recall'], metrics['f1-score']\n",
    "\n",
    "# Get model classification reports\n",
    "svm_report = classification_report(Y_test, svm_model.predict(X_test), output_dict=True)\n",
    "decision_tree_report = classification_report(Y_test, dcs_model.predict(X_test), output_dict=True)\n",
    "logistic_report = classification_report(Y_test, logistic_model.predict(X_test), output_dict=True)\n",
    "\n",
    "svm_re_report = classification_report(Y_test, svm_model_re.predict(X_test), output_dict=True)\n",
    "decision_tree_re_report = classification_report(Y_test, dcs_model_re.predict(X_test), output_dict=True)\n",
    "logistic_re_report = classification_report(Y_test, logistic_model_re.predict(X_test), output_dict=True)\n",
    "\n",
    "# Extract metrics\n",
    "svm_metrics = extract_metrics(svm_report)\n",
    "decision_tree_metrics = extract_metrics(decision_tree_report)\n",
    "logistic_metrics = extract_metrics(logistic_report)\n",
    "\n",
    "svm_re_metrics = extract_metrics(svm_re_report)\n",
    "decision_tree_re_metrics = extract_metrics(decision_tree_re_report)\n",
    "logistic_re_metrics = extract_metrics(logistic_re_report)\n",
    "\n",
    "# Create a DataFrame\n",
    "results = pd.DataFrame({\n",
    "    'Model': [\n",
    "        'SVM', 'Decision Tree', 'Logistic Regression',\n",
    "        'SVM Data Oversampling', 'Decision Tree Data Oversampling', 'Logistic Regression Data Oversampling'\n",
    "    ],\n",
    "    'Training Accuracy': [\n",
    "        svm_train_accuracy, decision_tree_train_accuracy, logistic_train_accuracy,\n",
    "        svm_train_accuracy_re, decision_tree_train_accuracy_re, logistic_train_accuracy_re\n",
    "    ],\n",
    "    'Test Accuracy': [\n",
    "        svm_test_accuracy, decision_tree_test_accuracy, logistic_test_accuracy,\n",
    "        svm_test_accuracy_re, decision_tree_test_accuracy_re, logistic_test_accuracy_re\n",
    "    ],\n",
    "    'Precision': [\n",
    "        svm_metrics[0], decision_tree_metrics[0], logistic_metrics[0],\n",
    "        svm_re_metrics[0], decision_tree_re_metrics[0], logistic_re_metrics[0]\n",
    "    ],\n",
    "    'Recall': [\n",
    "        svm_metrics[1], decision_tree_metrics[1], logistic_metrics[1],\n",
    "        svm_re_metrics[1], decision_tree_re_metrics[1], logistic_re_metrics[1]\n",
    "    ],\n",
    "    'F1-Score': [\n",
    "        svm_metrics[2], decision_tree_metrics[2], logistic_metrics[2],\n",
    "        svm_re_metrics[2], decision_tree_re_metrics[2], logistic_re_metrics[2]\n",
    "    ]\n",
    "})\n",
    "\n",
    "print(results)\n"
   ]
  },
  {
   "cell_type": "markdown",
   "id": "b5a9bd13",
   "metadata": {
    "papermill": {
     "duration": 0.045538,
     "end_time": "2024-07-28T01:59:42.037609",
     "exception": false,
     "start_time": "2024-07-28T01:59:41.992071",
     "status": "completed"
    },
    "tags": []
   },
   "source": [
    "All the models perform really well, both when they're being trained and when they're being tested. This suggests that the models are really good at spotting patterns in the data. Since the differences in accuracy between the models aren't very big, it's hard to say for sure that one model is better than the others. So, we're going to use a method called Ensemble to combine the different models. This is because each model has its own strengths and weaknesses, and by putting them together, we can make the most of what each model is good at.\n",
    "Furthermore, many studies have shown that ensemble models can effectively address an imbalanced data class. If you're interested in learning more about this, you can check out these journals:\n",
    "* [Application of Ensemble Method to Improve Classification algorithm performance on imbalanced dataset](https://www.researchgate.net/publication/330414197_PENERAPAN_METODE_ENSEMBLE_UNTUK_MENINGKATKAN_KINERJA_ALGORITME_KLASIFIKASI_PADA_IMBALANCED_DATASET#:~:text=Hal%20ini%20menunjukkan%20bahwa%20metode,kinerja%20algoritme%20pada%20imbalanced%20dataset.)\n",
    "* [Solving the Class Imbalance Problem Using Ensemble Algorithm](https://bmcmedinformdecismak.biomedcentral.com/articles/10.1186/s12911-022-01821-w)"
   ]
  },
  {
   "cell_type": "markdown",
   "id": "b13b533f",
   "metadata": {
    "papermill": {
     "duration": 0.037973,
     "end_time": "2024-07-28T01:59:42.114798",
     "exception": false,
     "start_time": "2024-07-28T01:59:42.076825",
     "status": "completed"
    },
    "tags": []
   },
   "source": [
    "# Ensemble Model"
   ]
  },
  {
   "cell_type": "code",
   "execution_count": 50,
   "id": "820bbbf8",
   "metadata": {
    "execution": {
     "iopub.execute_input": "2024-07-28T01:59:42.193759Z",
     "iopub.status.busy": "2024-07-28T01:59:42.193282Z",
     "iopub.status.idle": "2024-07-28T01:59:42.200462Z",
     "shell.execute_reply": "2024-07-28T01:59:42.199312Z"
    },
    "papermill": {
     "duration": 0.050063,
     "end_time": "2024-07-28T01:59:42.203221",
     "exception": false,
     "start_time": "2024-07-28T01:59:42.153158",
     "status": "completed"
    },
    "tags": []
   },
   "outputs": [],
   "source": [
    "from sklearn.ensemble import VotingClassifier\n",
    "\n",
    "# Create an ensemble model using Voting Classifier\n",
    "ensemble_model = VotingClassifier(\n",
    "    estimators=[\n",
    "        ('svm', svm_model), \n",
    "        ('decision_tree', dcs_model), \n",
    "        ('logistic_regression', logistic_model)\n",
    "    ],\n",
    "    voting='soft'  #'hard' for majority voting, 'soft' for averaging probabilities\n",
    ")"
   ]
  },
  {
   "cell_type": "code",
   "execution_count": 51,
   "id": "99d197ed",
   "metadata": {
    "execution": {
     "iopub.execute_input": "2024-07-28T01:59:42.282712Z",
     "iopub.status.busy": "2024-07-28T01:59:42.281282Z",
     "iopub.status.idle": "2024-07-28T01:59:42.851655Z",
     "shell.execute_reply": "2024-07-28T01:59:42.849963Z"
    },
    "papermill": {
     "duration": 0.615047,
     "end_time": "2024-07-28T01:59:42.856313",
     "exception": false,
     "start_time": "2024-07-28T01:59:42.241266",
     "status": "completed"
    },
    "tags": []
   },
   "outputs": [
    {
     "data": {
      "text/plain": [
       "VotingClassifier(estimators=[('svm', SVC(probability=True)),\n",
       "                             ('decision_tree', DecisionTreeClassifier()),\n",
       "                             ('logistic_regression', LogisticRegression())],\n",
       "                 voting='soft')"
      ]
     },
     "execution_count": 51,
     "metadata": {},
     "output_type": "execute_result"
    }
   ],
   "source": [
    "# Train the ensemble model\n",
    "ensemble_model.fit(X_train, Y_train)"
   ]
  },
  {
   "cell_type": "code",
   "execution_count": 52,
   "id": "635f8316",
   "metadata": {
    "execution": {
     "iopub.execute_input": "2024-07-28T01:59:42.984889Z",
     "iopub.status.busy": "2024-07-28T01:59:42.984372Z",
     "iopub.status.idle": "2024-07-28T01:59:43.032167Z",
     "shell.execute_reply": "2024-07-28T01:59:43.030471Z"
    },
    "papermill": {
     "duration": 0.101591,
     "end_time": "2024-07-28T01:59:43.037331",
     "exception": false,
     "start_time": "2024-07-28T01:59:42.935740",
     "status": "completed"
    },
    "tags": []
   },
   "outputs": [],
   "source": [
    "# Make predictions on the test set\n",
    "y_pred = ensemble_model.predict(X_test)"
   ]
  },
  {
   "cell_type": "code",
   "execution_count": 53,
   "id": "30b18245",
   "metadata": {
    "execution": {
     "iopub.execute_input": "2024-07-28T01:59:43.175888Z",
     "iopub.status.busy": "2024-07-28T01:59:43.175337Z",
     "iopub.status.idle": "2024-07-28T01:59:43.197438Z",
     "shell.execute_reply": "2024-07-28T01:59:43.195725Z"
    },
    "papermill": {
     "duration": 0.082338,
     "end_time": "2024-07-28T01:59:43.200628",
     "exception": false,
     "start_time": "2024-07-28T01:59:43.118290",
     "status": "completed"
    },
    "tags": []
   },
   "outputs": [
    {
     "name": "stdout",
     "output_type": "stream",
     "text": [
      "      Metric     Score\n",
      "0   Accuracy  0.979397\n",
      "1  Precision  0.980000\n",
      "2     Recall  0.994465\n",
      "3   F1 Score  0.987179\n"
     ]
    }
   ],
   "source": [
    "from sklearn.metrics import accuracy_score, precision_score, recall_score, f1_score\n",
    "\n",
    "# Calculate metrics\n",
    "accuracy = accuracy_score(Y_test, y_pred)\n",
    "precision = precision_score(Y_test, y_pred) \n",
    "recall = recall_score(Y_test, y_pred)\n",
    "f1 = f1_score(Y_test, y_pred)\n",
    "\n",
    "# Create a DataFrame to display the results\n",
    "metrics_df = pd.DataFrame({\n",
    "    'Metric': ['Accuracy', 'Precision', 'Recall', 'F1 Score'],\n",
    "    'Score': [accuracy, precision, recall, f1]\n",
    "})\n",
    "\n",
    "print(metrics_df)"
   ]
  },
  {
   "cell_type": "code",
   "execution_count": 54,
   "id": "f9302af5",
   "metadata": {
    "execution": {
     "iopub.execute_input": "2024-07-28T01:59:43.281274Z",
     "iopub.status.busy": "2024-07-28T01:59:43.280822Z",
     "iopub.status.idle": "2024-07-28T01:59:43.291900Z",
     "shell.execute_reply": "2024-07-28T01:59:43.290455Z"
    },
    "papermill": {
     "duration": 0.054313,
     "end_time": "2024-07-28T01:59:43.294638",
     "exception": false,
     "start_time": "2024-07-28T01:59:43.240325",
     "status": "completed"
    },
    "tags": []
   },
   "outputs": [],
   "source": [
    "from sklearn.ensemble import StackingClassifier\n",
    "from sklearn.base import BaseEstimator, ClassifierMixin\n",
    "\n",
    "# Define the custom wrapper\n",
    "class TrainedModelWrapper(BaseEstimator, ClassifierMixin):\n",
    "    def __init__(self, model):\n",
    "        self.model = model\n",
    "        self.classes_ = None\n",
    "    \n",
    "    def fit(self, X, y=None):\n",
    "        self.model.fit(X, y)\n",
    "        self.classes_ = self.model.classes_\n",
    "        return self\n",
    "    \n",
    "    def predict(self, X):\n",
    "        return self.model.predict(X)\n",
    "    \n",
    "    def predict_proba(self, X):\n",
    "        return self.model.predict_proba(X)\n",
    "\n",
    "# Create wrapped models\n",
    "svm_wrapper = TrainedModelWrapper(svm_model)\n",
    "decision_tree_wrapper = TrainedModelWrapper(dcs_model)\n",
    "logistic_wrapper = TrainedModelWrapper(logistic_model)"
   ]
  },
  {
   "cell_type": "code",
   "execution_count": 55,
   "id": "3eb09fbf",
   "metadata": {
    "execution": {
     "iopub.execute_input": "2024-07-28T01:59:43.375933Z",
     "iopub.status.busy": "2024-07-28T01:59:43.374493Z",
     "iopub.status.idle": "2024-07-28T01:59:43.382321Z",
     "shell.execute_reply": "2024-07-28T01:59:43.381011Z"
    },
    "papermill": {
     "duration": 0.051907,
     "end_time": "2024-07-28T01:59:43.385589",
     "exception": false,
     "start_time": "2024-07-28T01:59:43.333682",
     "status": "completed"
    },
    "tags": []
   },
   "outputs": [],
   "source": [
    "# Define the base models and meta-model\n",
    "base_models = [\n",
    "    ('svm', svm_wrapper),\n",
    "    ('decision_tree', decision_tree_wrapper),\n",
    "    ('logistic', logistic_wrapper)\n",
    "]\n",
    "meta_model = LogisticRegression()\n",
    "\n",
    "# Create the stacking classifier\n",
    "stacking_clf = StackingClassifier(\n",
    "    estimators=base_models,\n",
    "    final_estimator=meta_model,\n",
    "    cv=5, \n",
    "    passthrough=True \n",
    ")"
   ]
  },
  {
   "cell_type": "code",
   "execution_count": 56,
   "id": "ebcfb0e5",
   "metadata": {
    "execution": {
     "iopub.execute_input": "2024-07-28T01:59:43.467714Z",
     "iopub.status.busy": "2024-07-28T01:59:43.467059Z",
     "iopub.status.idle": "2024-07-28T01:59:46.391109Z",
     "shell.execute_reply": "2024-07-28T01:59:46.389485Z"
    },
    "papermill": {
     "duration": 2.970819,
     "end_time": "2024-07-28T01:59:46.395936",
     "exception": false,
     "start_time": "2024-07-28T01:59:43.425117",
     "status": "completed"
    },
    "tags": []
   },
   "outputs": [],
   "source": [
    "# Train the stacking model\n",
    "stacking_clf.fit(X_train, Y_train)\n",
    "\n",
    "# Make predictions\n",
    "y_pred_stack = stacking_clf.predict(X_test)             "
   ]
  },
  {
   "cell_type": "code",
   "execution_count": 57,
   "id": "1125630e",
   "metadata": {
    "execution": {
     "iopub.execute_input": "2024-07-28T01:59:46.536303Z",
     "iopub.status.busy": "2024-07-28T01:59:46.535858Z",
     "iopub.status.idle": "2024-07-28T01:59:46.555260Z",
     "shell.execute_reply": "2024-07-28T01:59:46.553516Z"
    },
    "papermill": {
     "duration": 0.07631,
     "end_time": "2024-07-28T01:59:46.558323",
     "exception": false,
     "start_time": "2024-07-28T01:59:46.482013",
     "status": "completed"
    },
    "tags": []
   },
   "outputs": [
    {
     "name": "stdout",
     "output_type": "stream",
     "text": [
      "      Metric     Score\n",
      "0   Accuracy  0.981604\n",
      "1  Precision  0.983562\n",
      "2     Recall  0.993542\n",
      "3   F1 Score  0.988527\n"
     ]
    }
   ],
   "source": [
    "# Calculate metrics\n",
    "accuracy_stack = accuracy_score(Y_test, y_pred_stack)\n",
    "precision_stack= precision_score(Y_test, y_pred_stack, average='binary') \n",
    "recall_stack = recall_score(Y_test, y_pred_stack, average='binary')\n",
    "f1_stack = f1_score(Y_test, y_pred_stack, average='binary')\n",
    "\n",
    "# Create a DataFrame to display the results\n",
    "metrics_df_stack = pd.DataFrame({\n",
    "    'Metric': ['Accuracy', 'Precision', 'Recall', 'F1 Score'],\n",
    "    'Score': [accuracy_stack, precision_stack, recall_stack, f1_stack]\n",
    "})\n",
    "\n",
    "print(metrics_df_stack)"
   ]
  },
  {
   "cell_type": "code",
   "execution_count": 58,
   "id": "49522e60",
   "metadata": {
    "execution": {
     "iopub.execute_input": "2024-07-28T01:59:46.637640Z",
     "iopub.status.busy": "2024-07-28T01:59:46.636715Z",
     "iopub.status.idle": "2024-07-28T01:59:47.255477Z",
     "shell.execute_reply": "2024-07-28T01:59:47.253891Z"
    },
    "papermill": {
     "duration": 0.663975,
     "end_time": "2024-07-28T01:59:47.260727",
     "exception": false,
     "start_time": "2024-07-28T01:59:46.596752",
     "status": "completed"
    },
    "tags": []
   },
   "outputs": [
    {
     "name": "stdout",
     "output_type": "stream",
     "text": [
      "                                   Model  Training Accuracy  Test Accuracy  \\\n",
      "0                                    SVM           0.981595       0.982340   \n",
      "1                          Decision Tree           0.981840       0.985283   \n",
      "2                    Logistic Regression           0.969080       0.962472   \n",
      "3                  SVM Data Oversampling           0.987117       0.986019   \n",
      "4        Decision Tree Data Oversampling           0.987117       0.986019   \n",
      "5  Logistic Regression Data Oversampling           0.961807       0.951435   \n",
      "6                      Stacking Ensemble           0.981595       0.981604   \n",
      "7                        Voting Ensemble           0.981104       0.979397   \n",
      "\n",
      "   Precision    Recall  F1-Score  \n",
      "0   0.984461  0.993542  0.988981  \n",
      "1   0.988971  0.992620  0.990792  \n",
      "2   0.967421  0.986162  0.976702  \n",
      "3   1.000000  0.982472  0.991159  \n",
      "4   1.000000  0.982472  0.991159  \n",
      "5   0.991313  0.947417  0.968868  \n",
      "6   0.983562  0.993542  0.988527  \n",
      "7   0.980000  0.994465  0.987179  \n"
     ]
    }
   ],
   "source": [
    "# Import necessary libraries\n",
    "import pandas as pd\n",
    "from sklearn.metrics import classification_report, accuracy_score, precision_score, recall_score, f1_score\n",
    "\n",
    "# Assume you have models already trained and y_pred_stack, y_pred are predictions from stacked models\n",
    "\n",
    "# Define a function to extract precision, recall, and F1-score from the classification report\n",
    "def extract_metrics(report):\n",
    "    metrics = report['1']\n",
    "    return metrics['precision'], metrics['recall'], metrics['f1-score']\n",
    "\n",
    "# Get classification reports for each model\n",
    "svm_report = classification_report(Y_test, svm_model.predict(X_test), output_dict=True)\n",
    "decision_tree_report = classification_report(Y_test, dcs_model.predict(X_test), output_dict=True)\n",
    "logistic_report = classification_report(Y_test, logistic_model.predict(X_test), output_dict=True)\n",
    "\n",
    "svm_re_report = classification_report(Y_test, svm_model_re.predict(X_test), output_dict=True)\n",
    "decision_tree_re_report = classification_report(Y_test, dcs_model_re.predict(X_test), output_dict=True)\n",
    "logistic_re_report = classification_report(Y_test, logistic_model_re.predict(X_test), output_dict=True)\n",
    "\n",
    "# Extract metrics for each model\n",
    "svm_metrics = extract_metrics(svm_report)\n",
    "decision_tree_metrics = extract_metrics(decision_tree_report)\n",
    "logistic_metrics = extract_metrics(logistic_report)\n",
    "\n",
    "svm_re_metrics = extract_metrics(svm_re_report)\n",
    "decision_tree_re_metrics = extract_metrics(decision_tree_re_report)\n",
    "logistic_re_metrics = extract_metrics(logistic_re_report)\n",
    "\n",
    "# Calculate metrics for ensemble and stacked models\n",
    "accuracy_stack = accuracy_score(Y_test, y_pred_stack)\n",
    "precision_stack = precision_score(Y_test, y_pred_stack, average='binary') \n",
    "recall_stack = recall_score(Y_test, y_pred_stack, average='binary')\n",
    "f1_stack = f1_score(Y_test, y_pred_stack, average='binary')\n",
    "\n",
    "accuracy_ensemble = accuracy_score(Y_test, y_pred)\n",
    "precision_ensemble = precision_score(Y_test, y_pred, average='binary') \n",
    "recall_ensemble = recall_score(Y_test, y_pred, average='binary')\n",
    "f1_ensemble = f1_score(Y_test, y_pred, average='binary')\n",
    "\n",
    "# Calculate training predictions for stacked and ensemble models\n",
    "y_train_pred_stack = stacking_clf.predict(X_train)\n",
    "y_train_pred_voting = ensemble_model.predict(X_train)\n",
    "\n",
    "# Calculate training accuracy for stacked and ensemble models\n",
    "train_accuracy_stack = accuracy_score(Y_train, y_train_pred_stack)\n",
    "train_accuracy_ensemble = accuracy_score(Y_train, y_train_pred_voting)\n",
    "\n",
    "# Create a DataFrame with all results\n",
    "results = pd.DataFrame({\n",
    "    'Model': [\n",
    "        'SVM', 'Decision Tree', 'Logistic Regression',\n",
    "        'SVM Data Oversampling', 'Decision Tree Data Oversampling', 'Logistic Regression Data Oversampling',\n",
    "        'Stacking Ensemble', 'Voting Ensemble'\n",
    "    ],\n",
    "    'Training Accuracy': [\n",
    "        svm_train_accuracy, decision_tree_train_accuracy, logistic_train_accuracy,\n",
    "        svm_train_accuracy_re, decision_tree_train_accuracy_re, logistic_train_accuracy_re,\n",
    "        train_accuracy_stack, train_accuracy_ensemble \n",
    "    ],\n",
    "    'Test Accuracy': [\n",
    "        svm_test_accuracy, decision_tree_test_accuracy, logistic_test_accuracy,\n",
    "        svm_test_accuracy_re, decision_tree_test_accuracy_re, logistic_test_accuracy_re,\n",
    "        accuracy_stack, accuracy_ensemble\n",
    "    ],\n",
    "    'Precision': [\n",
    "        svm_metrics[0], decision_tree_metrics[0], logistic_metrics[0],\n",
    "        svm_re_metrics[0], decision_tree_re_metrics[0], logistic_re_metrics[0],\n",
    "        precision_stack, precision_ensemble\n",
    "    ],\n",
    "    'Recall': [\n",
    "        svm_metrics[1], decision_tree_metrics[1], logistic_metrics[1],\n",
    "        svm_re_metrics[1], decision_tree_re_metrics[1], logistic_re_metrics[1],\n",
    "        recall_stack, recall_ensemble\n",
    "    ],\n",
    "    'F1-Score': [\n",
    "        svm_metrics[2], decision_tree_metrics[2], logistic_metrics[2],\n",
    "        svm_re_metrics[2], decision_tree_re_metrics[2], logistic_re_metrics[2],\n",
    "        f1_stack, f1_ensemble\n",
    "    ]\n",
    "})\n",
    "\n",
    "print(results)\n"
   ]
  },
  {
   "cell_type": "markdown",
   "id": "0a62e8bc",
   "metadata": {
    "papermill": {
     "duration": 0.04625,
     "end_time": "2024-07-28T01:59:47.389457",
     "exception": false,
     "start_time": "2024-07-28T01:59:47.343207",
     "status": "completed"
    },
    "tags": []
   },
   "source": [
    "# Conclusion\n",
    "\n",
    "* Models that use oversampling techniques (SVM Data Oversampling, Decision Tree Data oversampling, Logistic Regression Data Oversammplings) tend to have higher accuracy than models without oversampling. However, the differences are slight. This indicates that data oversampling effectively addresses the problem of class imbalances in the datasets. \n",
    "* The ensemble models (Stacking Ensemble and Voting Ensemble) perform well, especially regarding F1 scores. It shows that combining several models can improve overall performance. \n",
    "* The Decision Tree model (either with or without oversampling) consistently shows good performance. This indicates that the data structure used may match the decision tree approach.\n",
    "* For most models, the difference between training and test accuracy is relatively minor, indicating that the models are not overfitting.\n",
    "\n",
    "The evaluation results show that:\n",
    "\n",
    "* Oversampling is an effective technique to improve model performance on unbalanced datasets. \n",
    "* Ensemble models such as Stacking and Voting can deliver good results.\n",
    "* The Decision Tree is a powerful algorithm for this data set. "
   ]
  }
 ],
 "metadata": {
  "kaggle": {
   "accelerator": "none",
   "dataSources": [
    {
     "datasetId": 836054,
     "sourceId": 1427628,
     "sourceType": "datasetVersion"
    }
   ],
   "dockerImageVersionId": 30301,
   "isGpuEnabled": false,
   "isInternetEnabled": false,
   "language": "python",
   "sourceType": "notebook"
  },
  "kernelspec": {
   "display_name": "Python 3",
   "language": "python",
   "name": "python3"
  },
  "language_info": {
   "codemirror_mode": {
    "name": "ipython",
    "version": 3
   },
   "file_extension": ".py",
   "mimetype": "text/x-python",
   "name": "python",
   "nbconvert_exporter": "python",
   "pygments_lexer": "ipython3",
   "version": "3.7.12"
  },
  "papermill": {
   "default_parameters": {},
   "duration": 36.072879,
   "end_time": "2024-07-28T01:59:48.252738",
   "environment_variables": {},
   "exception": null,
   "input_path": "__notebook__.ipynb",
   "output_path": "__notebook__.ipynb",
   "parameters": {},
   "start_time": "2024-07-28T01:59:12.179859",
   "version": "2.3.4"
  }
 },
 "nbformat": 4,
 "nbformat_minor": 5
}
